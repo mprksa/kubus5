{
  "nbformat": 4,
  "nbformat_minor": 0,
  "metadata": {
    "colab": {
      "provenance": [],
      "authorship_tag": "ABX9TyP5+AUq1WzK92kb35Gw95ni",
      "include_colab_link": true
    },
    "kernelspec": {
      "name": "python3",
      "display_name": "Python 3"
    },
    "language_info": {
      "name": "python"
    }
  },
  "cells": [
    {
      "cell_type": "markdown",
      "metadata": {
        "id": "view-in-github",
        "colab_type": "text"
      },
      "source": [
        "<a href=\"https://colab.research.google.com/github/mprksa/kubus5/blob/main/DT_TestRandom.ipynb\" target=\"_parent\"><img src=\"https://colab.research.google.com/assets/colab-badge.svg\" alt=\"Open In Colab\"/></a>"
      ]
    },
    {
      "cell_type": "code",
      "source": [
        "!git clone https://github.com/mprksa/kubus5.git"
      ],
      "metadata": {
        "colab": {
          "base_uri": "https://localhost:8080/"
        },
        "id": "vn4oJJ6LfJPz",
        "outputId": "8ceff48a-ffab-46c9-ae71-d21e163c3c5c"
      },
      "execution_count": 57,
      "outputs": [
        {
          "output_type": "stream",
          "name": "stdout",
          "text": [
            "Cloning into 'kubus5'...\n",
            "remote: Enumerating objects: 39, done.\u001b[K\n",
            "remote: Counting objects: 100% (39/39), done.\u001b[K\n",
            "remote: Compressing objects: 100% (37/37), done.\u001b[K\n",
            "remote: Total 39 (delta 9), reused 0 (delta 0), pack-reused 0\u001b[K\n",
            "Receiving objects: 100% (39/39), 24.55 MiB | 25.19 MiB/s, done.\n",
            "Resolving deltas: 100% (9/9), done.\n"
          ]
        }
      ]
    },
    {
      "cell_type": "code",
      "source": [
        "import cv2\n",
        "import joblib\n",
        "import numpy as np\n",
        "\n",
        "# Fungsi untuk memuat model\n",
        "def load_model(model_filename):\n",
        "    with open(model_filename, 'rb') as model_file:\n",
        "        dt, scaler, _ = joblib.load(model_file)  # Hanya memuat dt dan scaler, label_encoder tidak digunakan lagi\n",
        "    return dt, scaler\n",
        "\n",
        "# Fungsi untuk melakukan deteksi objek menggunakan model dan ruang warna HSV\n",
        "def detect_objects(img, model):\n",
        "    dt, scaler = model\n",
        "\n",
        "    # Ubah gambar menjadi ruang warna HSV\n",
        "    img_hsv = cv2.cvtColor(img, cv2.COLOR_BGR2HSV)\n",
        "\n",
        "    # Resize gambar ke ukuran yang sesuai dengan scaler\n",
        "    target_size = (256, 256)  # Misalnya, ukuran yang sesuai dengan scaler\n",
        "    img_resized = cv2.resize(img_hsv, target_size)\n",
        "\n",
        "    img_flat = img_resized.flatten().reshape(1, -1)\n",
        "\n",
        "    # Normalisasi fitur\n",
        "    img_normalized = scaler.transform(img_flat)\n",
        "\n",
        "    # Prediksi menggunakan model Decision Tree\n",
        "    prediction = dt.predict(img_normalized)[0]\n",
        "    probabilities = dt.predict_proba(img_normalized)[0]  # Peroleh probabilitas prediksi untuk semua kelas\n",
        "\n",
        "    return prediction, probabilities"
      ],
      "metadata": {
        "id": "T1n7Yf_ISsAF"
      },
      "execution_count": 75,
      "outputs": []
    },
    {
      "cell_type": "code",
      "source": [
        "if __name__ == '__main__':\n",
        "    # Load model yang telah disimpan\n",
        "    model_filename = 'decision_tree_model.pkl'\n",
        "    model = load_model(model_filename)\n",
        "    # Daftar path gambar yang akan diproses\n",
        "    image_paths = ['kubus5/w/Biru Muda.JPG', 'kubus5/w/Biru Tua.JPG', 'kubus5/w/Coklat.JPG', 'kubus5/w/Hijau Muda.JPG', 'kubus5/w/Hijau Tua.JPG', 'kubus5/w/Kuning Muda.JPG', 'kubus5/w/Orange.JPG', 'kubus5/w/Pink.JPG', 'kubus5/w/Ungu.JPG']  # Ubah sesuai dengan gambar yang ingin Anda deteksi\n"
      ],
      "metadata": {
        "id": "BdmXOb4TS1R5"
      },
      "execution_count": 85,
      "outputs": []
    },
    {
      "cell_type": "code",
      "source": [
        "class_labels = {\n",
        "    0: \"Biru\",\n",
        "    1: \"Hitam\",\n",
        "    2: \"Kuning\",\n",
        "    3: \"Merah\",\n",
        "    4: \"Putih\"\n",
        "}\n",
        "\n",
        "total_correct = 0\n",
        "total_images = len(image_paths)\n",
        "\n",
        "for image_path in image_paths:\n",
        "    # Load gambar untuk deteksi objek\n",
        "    img = cv2.imread(image_path)\n",
        "\n",
        "    if img is not None:\n",
        "        # Deteksi objek dalam gambar\n",
        "        prediction, probabilities = detect_objects(img, model)\n",
        "\n",
        "        # Cetak hasil prediksi\n",
        "        predicted_label = class_labels[prediction]\n",
        "        accuracy = probabilities[prediction] * 100  # Hitung akurasi prediksi\n",
        "\n",
        "        print(f\"Deteksi Objek pada {image_path}: Prediksi = {predicted_label} ({accuracy:.2f}%)\")\n",
        "        # Periksa jika prediksi benar\n",
        "        if predicted_label == image_path.split('.')[0].split('_')[0].capitalize().lower():\n",
        "            total_correct += 1 # This line was incorrectly indented\n",
        "    else:\n",
        "        print(f\"Gagal memuat gambar: {image_path}\")"
      ],
      "metadata": {
        "colab": {
          "base_uri": "https://localhost:8080/"
        },
        "id": "sGhummR-S-18",
        "outputId": "d599736b-db06-491e-f5a3-40f8f142b23c"
      },
      "execution_count": 86,
      "outputs": [
        {
          "output_type": "stream",
          "name": "stdout",
          "text": [
            "Deteksi Objek pada kubus5/w/Biru Muda.JPG: Prediksi = Biru (100.00%)\n",
            "Deteksi Objek pada kubus5/w/Biru Tua.JPG: Prediksi = Biru (100.00%)\n",
            "Deteksi Objek pada kubus5/w/Coklat.JPG: Prediksi = Kuning (100.00%)\n",
            "Deteksi Objek pada kubus5/w/Hijau Muda.JPG: Prediksi = Putih (100.00%)\n",
            "Deteksi Objek pada kubus5/w/Hijau Tua.JPG: Prediksi = Biru (100.00%)\n",
            "Deteksi Objek pada kubus5/w/Kuning Muda.JPG: Prediksi = Putih (100.00%)\n",
            "Deteksi Objek pada kubus5/w/Orange.JPG: Prediksi = Merah (100.00%)\n",
            "Deteksi Objek pada kubus5/w/Pink.JPG: Prediksi = Merah (100.00%)\n",
            "Deteksi Objek pada kubus5/w/Ungu.JPG: Prediksi = Merah (100.00%)\n"
          ]
        }
      ]
    },
    {
      "cell_type": "code",
      "source": [
        "# Hitung dan cetak akurasi keseluruhan\n",
        "accuracy_percentage = (accuracy / total_images ) # Use the total number of correct predictions instead of the last accuracy score\n",
        "print(f\"\\nAkurasi Keseluruhan: {accuracy_percentage:.2f}% dari {total_images} gambar yang diproses.\")"
      ],
      "metadata": {
        "colab": {
          "base_uri": "https://localhost:8080/"
        },
        "id": "m2etr_3mTLCr",
        "outputId": "2918e8f2-0a3e-4862-f0e8-a13e5a24a49a"
      },
      "execution_count": 87,
      "outputs": [
        {
          "output_type": "stream",
          "name": "stdout",
          "text": [
            "\n",
            "Akurasi Keseluruhan: 11.11% dari 9 gambar yang diproses.\n"
          ]
        }
      ]
    }
  ]
}
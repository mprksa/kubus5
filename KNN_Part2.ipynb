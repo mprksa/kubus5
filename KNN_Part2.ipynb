{
  "nbformat": 4,
  "nbformat_minor": 0,
  "metadata": {
    "colab": {
      "provenance": [],
      "authorship_tag": "ABX9TyNp9NmHEFhO7Le6WQ0SvtE9",
      "include_colab_link": true
    },
    "kernelspec": {
      "name": "python3",
      "display_name": "Python 3"
    },
    "language_info": {
      "name": "python"
    }
  },
  "cells": [
    {
      "cell_type": "markdown",
      "metadata": {
        "id": "view-in-github",
        "colab_type": "text"
      },
      "source": [
        "<a href=\"https://colab.research.google.com/github/mprksa/kubus5/blob/main/KNN_Part2.ipynb\" target=\"_parent\"><img src=\"https://colab.research.google.com/assets/colab-badge.svg\" alt=\"Open In Colab\"/></a>"
      ]
    },
    {
      "cell_type": "code",
      "execution_count": null,
      "metadata": {
        "id": "cZkxqRXcGrPY"
      },
      "outputs": [],
      "source": [
        "from PIL import Image\n",
        "import os\n",
        "import numpy as np\n",
        "import json\n",
        "import pandas as pd\n",
        "import cv2\n",
        "from glob import glob\n",
        "import matplotlib.pyplot as plt\n",
        "import seaborn as sns\n",
        "from sklearn.model_selection import train_test_split\n",
        "from sklearn.neighbors import KNeighborsClassifier\n",
        "from sklearn.metrics import accuracy_score, classification_report, confusion_matrix"
      ]
    },
    {
      "cell_type": "code",
      "source": [
        "!git clone https://github.com/mprksa/Blocks2.git"
      ],
      "metadata": {
        "colab": {
          "base_uri": "https://localhost:8080/"
        },
        "id": "As0RiRaaGwN4",
        "outputId": "dd4074f1-e11a-47f5-adb9-e7c9953c5f41"
      },
      "execution_count": null,
      "outputs": [
        {
          "output_type": "stream",
          "name": "stdout",
          "text": [
            "Cloning into 'Blocks2'...\n",
            "remote: Enumerating objects: 884, done.\u001b[K\n",
            "remote: Counting objects: 100% (884/884), done.\u001b[K\n",
            "remote: Compressing objects: 100% (870/870), done.\u001b[K\n",
            "remote: Total 884 (delta 35), reused 0 (delta 0), pack-reused 0\u001b[K\n",
            "Receiving objects: 100% (884/884), 1.82 GiB | 24.47 MiB/s, done.\n",
            "Resolving deltas: 100% (35/35), done.\n",
            "Updating files: 100% (728/728), done.\n"
          ]
        }
      ]
    },
    {
      "cell_type": "code",
      "source": [
        "# Path to the CSV files\n",
        "train_csv_path = 'Blocks2/train/train.csv'\n",
        "test_csv_path = 'Blocks2/test/test.csv'\n",
        "validation_csv_path = 'Blocks2/validation/validation.csv'"
      ],
      "metadata": {
        "id": "4UsIRU2LG2sg"
      },
      "execution_count": null,
      "outputs": []
    },
    {
      "cell_type": "code",
      "source": [
        "# Load CSV data\n",
        "train_data = pd.read_csv(train_csv_path)\n",
        "test_data = pd.read_csv(test_csv_path)\n",
        "validation_data = pd.read_csv(validation_csv_path)"
      ],
      "metadata": {
        "id": "6MRwfnnCG6mo"
      },
      "execution_count": null,
      "outputs": []
    },
    {
      "cell_type": "code",
      "source": [
        "# Fungsi untuk konversi gambar dari RGB ke HSV dan menghitung mean untuk setiap channel\n",
        "def rgb_to_hsv_features(image_array):\n",
        "    hsv_img = cv2.cvtColor(image_array, cv2.COLOR_RGB2HSV)\n",
        "    mean_h = np.mean(hsv_img[:, :, 0])\n",
        "    mean_s = np.mean(hsv_img[:, :, 1])\n",
        "    mean_v = np.mean(hsv_img[:, :, 2])\n",
        "    return np.array([mean_h, mean_s, mean_v])\n",
        "\n",
        "def load_labels_from_csv(csv_path):\n",
        "    labels_dict = {}\n",
        "    try:\n",
        "        labels_df = pd.read_csv(csv_path)\n",
        "        labels_df['image'] = labels_df['image'].apply(lambda x: os.path.basename(x))\n",
        "\n",
        "        # Parse JSON string in 'label' column\n",
        "        def extract_label(json_str):\n",
        "            try:\n",
        "                data = json.loads(json_str)\n",
        "                if isinstance(data, list) and len(data) > 0:\n",
        "                    return data[0]['rectanglelabels'][0]  # Assuming only one label per image\n",
        "                else:\n",
        "                    return None\n",
        "            except Exception as e:\n",
        "                print(f\"Error parsing JSON: {e}\")\n",
        "                return None\n",
        "\n",
        "        labels_df['label'] = labels_df['label'].apply(extract_label)\n",
        "\n",
        "        # Convert to dictionary\n",
        "        labels_dict = pd.Series(labels_df['label'].values, index=labels_df['image']).to_dict()\n",
        "\n",
        "    except Exception as e:\n",
        "        print(f\"Error loading labels from CSV: {e}\")\n",
        "\n",
        "    return labels_dict\n",
        "\n",
        "\n",
        "# Fungsi untuk mengambil fitur HSV dan label dari gambar berdasarkan CSV\n",
        "def rgb_to_hsv_features_with_label_from_csv(images_folder_path, csv_path):\n",
        "    hsv_features = []\n",
        "    labels = []\n",
        "    labels_dict = load_labels_from_csv(csv_path)\n",
        "    image_extensions = ['*.jpg', '*.JPG', '*.jpeg', '*.png']\n",
        "    images_files = []\n",
        "    for ext in image_extensions:\n",
        "        images_files.extend(glob(os.path.join(images_folder_path, ext)))\n",
        "\n",
        "    for img_path in images_files:\n",
        "        img = cv2.imread(img_path)\n",
        "        if img is None:\n",
        "            print(f\"Failed to read image {img_path}\")\n",
        "            continue\n",
        "\n",
        "        hsv_img = cv2.cvtColor(img, cv2.COLOR_BGR2HSV)\n",
        "        mean_h = np.mean(hsv_img[:, :, 0])\n",
        "        mean_s = np.mean(hsv_img[:, :, 1])\n",
        "        mean_v = np.mean(hsv_img[:, :, 2])\n",
        "        file_name = os.path.basename(img_path)\n",
        "\n",
        "        if file_name in labels_dict:\n",
        "            hsv_features.append([mean_h, mean_s, mean_v])\n",
        "            labels.append(labels_dict[file_name])\n",
        "        else:\n",
        "            print(f\"Label for image {file_name} not found in CSV file\")\n",
        "\n",
        "    return np.array(hsv_features), np.array(labels)\n"
      ],
      "metadata": {
        "id": "Kqey2TsPHI2h"
      },
      "execution_count": null,
      "outputs": []
    },
    {
      "cell_type": "code",
      "source": [
        "# Path ke CSV dan folder gambar\n",
        "train_csv_path = 'Blocks2/train/train.csv'\n",
        "train_image_folder_path = 'Blocks2/train/images'"
      ],
      "metadata": {
        "id": "16-zVdl6Rd81"
      },
      "execution_count": null,
      "outputs": []
    },
    {
      "cell_type": "code",
      "source": [
        "# Ekstraksi fitur dan label\n",
        "hsv_features, labels = rgb_to_hsv_features_with_label_from_csv(train_image_folder_path, train_csv_path)\n",
        "\n",
        "print(f\"Number of features extracted: {len(hsv_features)}\")\n",
        "print(f\"Number of labels extracted: {len(labels)}\")"
      ],
      "metadata": {
        "colab": {
          "base_uri": "https://localhost:8080/",
          "height": 1000
        },
        "id": "vTdX4fLBRgeN",
        "outputId": "8102de0c-3487-4ef5-e890-1ef2fb2c8812"
      },
      "execution_count": null,
      "outputs": [
        {
          "output_type": "stream",
          "name": "stdout",
          "text": [
            "Error loading labels from CSV: expected str, bytes or os.PathLike object, not float\n",
            "Label for image 3cd7a2ea-IMG_9312.jpg not found in CSV file\n",
            "Label for image 60cbd474-IMG_9210.jpg not found in CSV file\n",
            "Label for image 86d694f8-IMG_9513.jpg not found in CSV file\n",
            "Label for image fdc82cec-IMG_9630.jpg not found in CSV file\n",
            "Label for image 1a4e0109-IMG_9405.jpg not found in CSV file\n",
            "Label for image e3408ec2-IMG_9404.jpg not found in CSV file\n",
            "Label for image ef90cb57-IMG_9265.jpg not found in CSV file\n",
            "Label for image 59c0927f-IMG_9397.jpg not found in CSV file\n",
            "Label for image 88fbcd18-IMG_9495.jpg not found in CSV file\n",
            "Label for image 3eec66ce-IMG_9421.jpg not found in CSV file\n",
            "Label for image 27e0eae3-IMG_9491.jpg not found in CSV file\n",
            "Label for image e456d40c-IMG_9391.jpg not found in CSV file\n",
            "Label for image d62046d4-IMG_9468.jpg not found in CSV file\n",
            "Label for image 0a7d23d9-IMG_9385.jpg not found in CSV file\n",
            "Label for image 81530d7c-IMG_9342.jpg not found in CSV file\n",
            "Label for image 6a61bb8c-IMG_9474.jpg not found in CSV file\n",
            "Label for image 53becc14-IMG_9642.jpg not found in CSV file\n",
            "Label for image 2e06a2d9-IMG_9573.jpg not found in CSV file\n",
            "Label for image 2a542667-IMG_9388.jpg not found in CSV file\n",
            "Label for image a01f0cf2-IMG_9484.jpg not found in CSV file\n",
            "Label for image f2b91e99-IMG_9326.jpg not found in CSV file\n",
            "Label for image b61a6171-IMG_9561.jpg not found in CSV file\n",
            "Label for image c1c876d7-IMG_9348.jpg not found in CSV file\n",
            "Label for image fe24602d-IMG_9622.jpg not found in CSV file\n",
            "Label for image 556cbe48-IMG_9570.jpg not found in CSV file\n",
            "Label for image 6ac72ad2-IMG_9296.jpg not found in CSV file\n",
            "Label for image 2569e0ce-IMG_9370.jpg not found in CSV file\n",
            "Label for image 64b8b5c3-IMG_9454.jpg not found in CSV file\n",
            "Label for image 91929841-IMG_9579.jpg not found in CSV file\n",
            "Label for image aaf50342-IMG_9195.jpg not found in CSV file\n",
            "Label for image 7a6edf82-IMG_9356.jpg not found in CSV file\n",
            "Label for image ee7250d7-IMG_9369.jpg not found in CSV file\n",
            "Label for image 88f06cb9-IMG_9413.jpg not found in CSV file\n",
            "Label for image f4732e11-IMG_9313.jpg not found in CSV file\n",
            "Label for image c74c3614-IMG_9534.jpg not found in CSV file\n",
            "Label for image edb3dc45-IMG_9485.jpg not found in CSV file\n",
            "Label for image 192f04af-IMG_9471.jpg not found in CSV file\n",
            "Label for image 3a66e58f-IMG_9662.jpg not found in CSV file\n",
            "Label for image 1d36cc4e-IMG_9293.jpg not found in CSV file\n",
            "Label for image f9bfea2d-IMG_9387.jpg not found in CSV file\n",
            "Label for image 62191a95-IMG_9375.jpg not found in CSV file\n",
            "Label for image 4922fe50-IMG_9512.jpg not found in CSV file\n",
            "Label for image 0a93a200-IMG_9502.jpg not found in CSV file\n",
            "Label for image 5a5c9e8d-IMG_9674.jpg not found in CSV file\n",
            "Label for image 4a71212a-IMG_9407.jpg not found in CSV file\n",
            "Label for image e80c0568-IMG_9530.jpg not found in CSV file\n",
            "Label for image 19214f3a-IMG_9225.jpg not found in CSV file\n",
            "Label for image c9c770fb-IMG_9536.jpg not found in CSV file\n",
            "Label for image 8f04a4bf-IMG_9460.jpg not found in CSV file\n",
            "Label for image 8ed23a9a-IMG_9504.jpg not found in CSV file\n",
            "Label for image feb3ced1-IMG_9553.jpg not found in CSV file\n",
            "Label for image 1182f440-IMG_9443.jpg not found in CSV file\n",
            "Label for image 4c66632a-IMG_9179.jpg not found in CSV file\n",
            "Label for image 1fad3af4-IMG_9649.jpg not found in CSV file\n",
            "Label for image 9f6139b9-IMG_9617.jpg not found in CSV file\n",
            "Label for image d2930aeb-IMG_9603.jpg not found in CSV file\n",
            "Label for image ed139e60-IMG_9470.jpg not found in CSV file\n",
            "Label for image 5206f9c6-IMG_9390.jpg not found in CSV file\n",
            "Label for image 4b68531f-IMG_9538.jpg not found in CSV file\n",
            "Label for image 4a736494-IMG_9196.jpg not found in CSV file\n",
            "Label for image 4fee530c-IMG_9358.jpg not found in CSV file\n",
            "Label for image 35f270db-IMG_9219.jpg not found in CSV file\n",
            "Label for image ca060d05-IMG_9532.jpg not found in CSV file\n",
            "Label for image 9a967b7f-IMG_9521.jpg not found in CSV file\n",
            "Label for image 5dc1c329-IMG_9447.jpg not found in CSV file\n",
            "Label for image 594f4233-IMG_9626.jpg not found in CSV file\n",
            "Label for image 59e8938b-IMG_9262.jpg not found in CSV file\n",
            "Label for image 5892e1b0-IMG_9604.jpg not found in CSV file\n",
            "Label for image 1bd53fc5-IMG_9606.jpg not found in CSV file\n",
            "Label for image f2e7834a-IMG_9533.jpg not found in CSV file\n",
            "Label for image 6c50b0f4-IMG_9301.jpg not found in CSV file\n",
            "Label for image 1b40dc58-IMG_9419.jpg not found in CSV file\n",
            "Label for image 3c3febbe-IMG_9332.jpg not found in CSV file\n",
            "Label for image 9fc79dc2-IMG_9380.jpg not found in CSV file\n",
            "Label for image 0ca26cab-IMG_9478.jpg not found in CSV file\n",
            "Label for image e630024d-IMG_9618.jpg not found in CSV file\n",
            "Label for image a4d91940-IMG_9411.jpg not found in CSV file\n",
            "Label for image 3b2b4d0e-IMG_9418.jpg not found in CSV file\n",
            "Label for image 66e78be4-IMG_9430.jpg not found in CSV file\n",
            "Label for image 82fe814c-IMG_9509.jpg not found in CSV file\n",
            "Label for image e82c4de4-IMG_9346.jpg not found in CSV file\n",
            "Label for image ec9b9b5a-IMG_9581.jpg not found in CSV file\n"
          ]
        },
        {
          "output_type": "error",
          "ename": "KeyboardInterrupt",
          "evalue": "",
          "traceback": [
            "\u001b[0;31m---------------------------------------------------------------------------\u001b[0m",
            "\u001b[0;31mKeyboardInterrupt\u001b[0m                         Traceback (most recent call last)",
            "\u001b[0;32m<ipython-input-94-d286bceb6fd9>\u001b[0m in \u001b[0;36m<cell line: 2>\u001b[0;34m()\u001b[0m\n\u001b[1;32m      1\u001b[0m \u001b[0;31m# Ekstraksi fitur dan label\u001b[0m\u001b[0;34m\u001b[0m\u001b[0;34m\u001b[0m\u001b[0m\n\u001b[0;32m----> 2\u001b[0;31m \u001b[0mhsv_features\u001b[0m\u001b[0;34m,\u001b[0m \u001b[0mlabels\u001b[0m \u001b[0;34m=\u001b[0m \u001b[0mrgb_to_hsv_features_with_label_from_csv\u001b[0m\u001b[0;34m(\u001b[0m\u001b[0mtrain_image_folder_path\u001b[0m\u001b[0;34m,\u001b[0m \u001b[0mtrain_csv_path\u001b[0m\u001b[0;34m)\u001b[0m\u001b[0;34m\u001b[0m\u001b[0;34m\u001b[0m\u001b[0m\n\u001b[0m\u001b[1;32m      3\u001b[0m \u001b[0;34m\u001b[0m\u001b[0m\n\u001b[1;32m      4\u001b[0m \u001b[0mprint\u001b[0m\u001b[0;34m(\u001b[0m\u001b[0;34mf\"Number of features extracted: {len(hsv_features)}\"\u001b[0m\u001b[0;34m)\u001b[0m\u001b[0;34m\u001b[0m\u001b[0;34m\u001b[0m\u001b[0m\n\u001b[1;32m      5\u001b[0m \u001b[0mprint\u001b[0m\u001b[0;34m(\u001b[0m\u001b[0;34mf\"Number of labels extracted: {len(labels)}\"\u001b[0m\u001b[0;34m)\u001b[0m\u001b[0;34m\u001b[0m\u001b[0;34m\u001b[0m\u001b[0m\n",
            "\u001b[0;32m<ipython-input-92-74cb69b1c76c>\u001b[0m in \u001b[0;36mrgb_to_hsv_features_with_label_from_csv\u001b[0;34m(images_folder_path, csv_path)\u001b[0m\n\u001b[1;32m     47\u001b[0m \u001b[0;34m\u001b[0m\u001b[0m\n\u001b[1;32m     48\u001b[0m     \u001b[0;32mfor\u001b[0m \u001b[0mimg_path\u001b[0m \u001b[0;32min\u001b[0m \u001b[0mimages_files\u001b[0m\u001b[0;34m:\u001b[0m\u001b[0;34m\u001b[0m\u001b[0;34m\u001b[0m\u001b[0m\n\u001b[0;32m---> 49\u001b[0;31m         \u001b[0mimg\u001b[0m \u001b[0;34m=\u001b[0m \u001b[0mcv2\u001b[0m\u001b[0;34m.\u001b[0m\u001b[0mimread\u001b[0m\u001b[0;34m(\u001b[0m\u001b[0mimg_path\u001b[0m\u001b[0;34m)\u001b[0m\u001b[0;34m\u001b[0m\u001b[0;34m\u001b[0m\u001b[0m\n\u001b[0m\u001b[1;32m     50\u001b[0m         \u001b[0;32mif\u001b[0m \u001b[0mimg\u001b[0m \u001b[0;32mis\u001b[0m \u001b[0;32mNone\u001b[0m\u001b[0;34m:\u001b[0m\u001b[0;34m\u001b[0m\u001b[0;34m\u001b[0m\u001b[0m\n\u001b[1;32m     51\u001b[0m             \u001b[0mprint\u001b[0m\u001b[0;34m(\u001b[0m\u001b[0;34mf\"Failed to read image {img_path}\"\u001b[0m\u001b[0;34m)\u001b[0m\u001b[0;34m\u001b[0m\u001b[0;34m\u001b[0m\u001b[0m\n",
            "\u001b[0;31mKeyboardInterrupt\u001b[0m: "
          ]
        }
      ]
    },
    {
      "cell_type": "code",
      "source": [
        "# Split data into train and test sets\n",
        "x_train, x_test, y_train, y_test = train_test_split(hsv_features, labels, test_size=0.2, random_state=42)"
      ],
      "metadata": {
        "id": "4WoPC4fXHPpr"
      },
      "execution_count": null,
      "outputs": []
    },
    {
      "cell_type": "code",
      "source": [
        "# Train KNN classifier\n",
        "knn = KNeighborsClassifier(n_neighbors=3)\n",
        "knn.fit(x_train, y_train)"
      ],
      "metadata": {
        "colab": {
          "base_uri": "https://localhost:8080/",
          "height": 75
        },
        "id": "hmIQl48xHRsy",
        "outputId": "42fe91c8-385e-477d-ccee-510ca1fa262c"
      },
      "execution_count": null,
      "outputs": [
        {
          "output_type": "execute_result",
          "data": {
            "text/plain": [
              "KNeighborsClassifier(n_neighbors=3)"
            ],
            "text/html": [
              "<style>#sk-container-id-1 {color: black;background-color: white;}#sk-container-id-1 pre{padding: 0;}#sk-container-id-1 div.sk-toggleable {background-color: white;}#sk-container-id-1 label.sk-toggleable__label {cursor: pointer;display: block;width: 100%;margin-bottom: 0;padding: 0.3em;box-sizing: border-box;text-align: center;}#sk-container-id-1 label.sk-toggleable__label-arrow:before {content: \"▸\";float: left;margin-right: 0.25em;color: #696969;}#sk-container-id-1 label.sk-toggleable__label-arrow:hover:before {color: black;}#sk-container-id-1 div.sk-estimator:hover label.sk-toggleable__label-arrow:before {color: black;}#sk-container-id-1 div.sk-toggleable__content {max-height: 0;max-width: 0;overflow: hidden;text-align: left;background-color: #f0f8ff;}#sk-container-id-1 div.sk-toggleable__content pre {margin: 0.2em;color: black;border-radius: 0.25em;background-color: #f0f8ff;}#sk-container-id-1 input.sk-toggleable__control:checked~div.sk-toggleable__content {max-height: 200px;max-width: 100%;overflow: auto;}#sk-container-id-1 input.sk-toggleable__control:checked~label.sk-toggleable__label-arrow:before {content: \"▾\";}#sk-container-id-1 div.sk-estimator input.sk-toggleable__control:checked~label.sk-toggleable__label {background-color: #d4ebff;}#sk-container-id-1 div.sk-label input.sk-toggleable__control:checked~label.sk-toggleable__label {background-color: #d4ebff;}#sk-container-id-1 input.sk-hidden--visually {border: 0;clip: rect(1px 1px 1px 1px);clip: rect(1px, 1px, 1px, 1px);height: 1px;margin: -1px;overflow: hidden;padding: 0;position: absolute;width: 1px;}#sk-container-id-1 div.sk-estimator {font-family: monospace;background-color: #f0f8ff;border: 1px dotted black;border-radius: 0.25em;box-sizing: border-box;margin-bottom: 0.5em;}#sk-container-id-1 div.sk-estimator:hover {background-color: #d4ebff;}#sk-container-id-1 div.sk-parallel-item::after {content: \"\";width: 100%;border-bottom: 1px solid gray;flex-grow: 1;}#sk-container-id-1 div.sk-label:hover label.sk-toggleable__label {background-color: #d4ebff;}#sk-container-id-1 div.sk-serial::before {content: \"\";position: absolute;border-left: 1px solid gray;box-sizing: border-box;top: 0;bottom: 0;left: 50%;z-index: 0;}#sk-container-id-1 div.sk-serial {display: flex;flex-direction: column;align-items: center;background-color: white;padding-right: 0.2em;padding-left: 0.2em;position: relative;}#sk-container-id-1 div.sk-item {position: relative;z-index: 1;}#sk-container-id-1 div.sk-parallel {display: flex;align-items: stretch;justify-content: center;background-color: white;position: relative;}#sk-container-id-1 div.sk-item::before, #sk-container-id-1 div.sk-parallel-item::before {content: \"\";position: absolute;border-left: 1px solid gray;box-sizing: border-box;top: 0;bottom: 0;left: 50%;z-index: -1;}#sk-container-id-1 div.sk-parallel-item {display: flex;flex-direction: column;z-index: 1;position: relative;background-color: white;}#sk-container-id-1 div.sk-parallel-item:first-child::after {align-self: flex-end;width: 50%;}#sk-container-id-1 div.sk-parallel-item:last-child::after {align-self: flex-start;width: 50%;}#sk-container-id-1 div.sk-parallel-item:only-child::after {width: 0;}#sk-container-id-1 div.sk-dashed-wrapped {border: 1px dashed gray;margin: 0 0.4em 0.5em 0.4em;box-sizing: border-box;padding-bottom: 0.4em;background-color: white;}#sk-container-id-1 div.sk-label label {font-family: monospace;font-weight: bold;display: inline-block;line-height: 1.2em;}#sk-container-id-1 div.sk-label-container {text-align: center;}#sk-container-id-1 div.sk-container {/* jupyter's `normalize.less` sets `[hidden] { display: none; }` but bootstrap.min.css set `[hidden] { display: none !important; }` so we also need the `!important` here to be able to override the default hidden behavior on the sphinx rendered scikit-learn.org. See: https://github.com/scikit-learn/scikit-learn/issues/21755 */display: inline-block !important;position: relative;}#sk-container-id-1 div.sk-text-repr-fallback {display: none;}</style><div id=\"sk-container-id-1\" class=\"sk-top-container\"><div class=\"sk-text-repr-fallback\"><pre>KNeighborsClassifier(n_neighbors=3)</pre><b>In a Jupyter environment, please rerun this cell to show the HTML representation or trust the notebook. <br />On GitHub, the HTML representation is unable to render, please try loading this page with nbviewer.org.</b></div><div class=\"sk-container\" hidden><div class=\"sk-item\"><div class=\"sk-estimator sk-toggleable\"><input class=\"sk-toggleable__control sk-hidden--visually\" id=\"sk-estimator-id-1\" type=\"checkbox\" checked><label for=\"sk-estimator-id-1\" class=\"sk-toggleable__label sk-toggleable__label-arrow\">KNeighborsClassifier</label><div class=\"sk-toggleable__content\"><pre>KNeighborsClassifier(n_neighbors=3)</pre></div></div></div></div></div>"
            ]
          },
          "metadata": {},
          "execution_count": 70
        }
      ]
    },
    {
      "cell_type": "code",
      "source": [
        "# Predict and calculate accuracy\n",
        "y_pred = knn.predict(x_test)\n",
        "accuracy = accuracy_score(y_test, y_pred)\n",
        "print(f'Accuracy: {accuracy * 100:.2f}%')"
      ],
      "metadata": {
        "colab": {
          "base_uri": "https://localhost:8080/"
        },
        "id": "3RM9woZCHTIR",
        "outputId": "f4742d37-6672-4aca-bd9f-a591b5b04d4d"
      },
      "execution_count": null,
      "outputs": [
        {
          "output_type": "stream",
          "name": "stdout",
          "text": [
            "Accuracy: 34.65%\n"
          ]
        }
      ]
    },
    {
      "cell_type": "code",
      "source": [
        "# Print classification report\n",
        "print(classification_report(y_test, y_pred))"
      ],
      "metadata": {
        "colab": {
          "base_uri": "https://localhost:8080/"
        },
        "id": "4Bt52gFQHVUy",
        "outputId": "1a670e1f-c189-4b07-c6af-6a9b43d7ea6b"
      },
      "execution_count": null,
      "outputs": [
        {
          "output_type": "stream",
          "name": "stdout",
          "text": [
            "              precision    recall  f1-score   support\n",
            "\n",
            "        biru       0.44      0.65      0.52        17\n",
            "       hitam       0.41      0.43      0.42        21\n",
            "      kuning       0.37      0.26      0.30        27\n",
            "       merah       0.28      0.29      0.29        17\n",
            "       putih       0.18      0.16      0.17        19\n",
            "\n",
            "    accuracy                           0.35       101\n",
            "   macro avg       0.33      0.36      0.34       101\n",
            "weighted avg       0.34      0.35      0.34       101\n",
            "\n"
          ]
        }
      ]
    },
    {
      "cell_type": "code",
      "source": [
        "# Display confusion matrix\n",
        "conf_matrix = confusion_matrix(y_test, y_pred)\n",
        "plt.figure(figsize=(8, 6))\n",
        "sns.heatmap(conf_matrix, annot=True, fmt='d', cmap='Blues')\n",
        "plt.xlabel('Predicted')\n",
        "plt.ylabel('Actual')\n",
        "plt.title('Confusion Matrix')\n",
        "plt.show()"
      ],
      "metadata": {
        "colab": {
          "base_uri": "https://localhost:8080/",
          "height": 564
        },
        "id": "FYefZr_PHXP5",
        "outputId": "e8bbaad8-46f6-457b-f6df-772635005c7f"
      },
      "execution_count": null,
      "outputs": [
        {
          "output_type": "display_data",
          "data": {
            "text/plain": [
              "<Figure size 800x600 with 2 Axes>"
            ],
            "image/png": "[encoded data removed]"
          },
          "metadata": {}
        }
      ]
    },
    {
      "cell_type": "code",
      "source": [
        "# Validate using validation.csv\n",
        "validation_labels_path = validation_csv_path\n",
        "validation_labels_dict = load_labels_from_csv(validation_labels_path)  # Menggunakan fungsi load_labels_from_csv yang sudah diperbarui\n",
        "\n",
        "hsv_features_validation = []\n",
        "labels_validation = []\n",
        "\n",
        "for index, row in validation_data.iterrows():\n",
        "    img_path = os.path.join(validation_image_folder_path, row['image'])\n",
        "    if os.path.exists(img_path):\n",
        "        resize_image = load_images(img_path, size=(224, 224))\n",
        "        rgb_hsv = rgb_to_hsv_features(resize_image)\n",
        "        hsv_features_validation.append(rgb_hsv)\n",
        "        labels_validation.append(validation_labels_dict.get(row['image'], 'unknown'))  # Menggunakan get() untuk mendapatkan label dengan key 'image_id'\n",
        "    else:\n",
        "        print(f\"Warning: Image not found: {img_path}\")  # Add this line to check if images are being found\n",
        "\n",
        "hsv_features_validation = np.array(hsv_features_validation)\n",
        "labels_validation = np.array(labels_validation)\n"
      ],
      "metadata": {
        "colab": {
          "base_uri": "https://localhost:8080/"
        },
        "id": "yqRFlHX1KH5J",
        "outputId": "0220cbd8-0761-4ffa-d180-0766a8a2d20b"
      },
      "execution_count": null,
      "outputs": [
        {
          "output_type": "stream",
          "name": "stdout",
          "text": [
            "Warning: Image not found: /data/upload/6/ddffd2eb-IMG_0176.JPG\n",
            "Warning: Image not found: /data/upload/6/174ffd3f-IMG_0177.JPG\n",
            "Warning: Image not found: /data/upload/6/796b2022-IMG_0178.JPG\n",
            "Warning: Image not found: /data/upload/6/030644fe-IMG_0179.JPG\n",
            "Warning: Image not found: /data/upload/6/044ae8c5-IMG_0180.JPG\n",
            "Warning: Image not found: /data/upload/6/dd9cfc24-IMG_0181.JPG\n",
            "Warning: Image not found: /data/upload/6/684d0314-IMG_0182.JPG\n",
            "Warning: Image not found: /data/upload/6/d34728ab-IMG_0183.JPG\n",
            "Warning: Image not found: /data/upload/6/aea4be71-IMG_0184.JPG\n",
            "Warning: Image not found: /data/upload/6/af1f6515-IMG_0185.JPG\n",
            "Warning: Image not found: /data/upload/6/b883b2f2-IMG_0186.JPG\n",
            "Warning: Image not found: /data/upload/6/ee056307-IMG_0187.JPG\n",
            "Warning: Image not found: /data/upload/6/a303e4f4-IMG_0188.JPG\n",
            "Warning: Image not found: /data/upload/6/26aab095-IMG_0189.JPG\n",
            "Warning: Image not found: /data/upload/6/60922360-IMG_0190.JPG\n",
            "Warning: Image not found: /data/upload/6/0eb8a0bd-IMG_0191.JPG\n",
            "Warning: Image not found: /data/upload/6/8a123890-IMG_0192.JPG\n",
            "Warning: Image not found: /data/upload/6/2996c3d4-IMG_0193.JPG\n",
            "Warning: Image not found: /data/upload/6/073c618d-IMG_0194.JPG\n",
            "Warning: Image not found: /data/upload/6/82d93362-IMG_0195.JPG\n",
            "Warning: Image not found: /data/upload/6/a86da9c4-IMG_0196.JPG\n",
            "Warning: Image not found: /data/upload/6/f006deae-IMG_0197.JPG\n",
            "Warning: Image not found: /data/upload/6/9d3b4ab1-IMG_0198.JPG\n",
            "Warning: Image not found: /data/upload/6/71cec376-IMG_0199.JPG\n",
            "Warning: Image not found: /data/upload/6/0cd60c14-IMG_0200.JPG\n",
            "Warning: Image not found: /data/upload/6/0439618a-IMG_0201.JPG\n",
            "Warning: Image not found: /data/upload/6/92b17d39-IMG_0202.JPG\n",
            "Warning: Image not found: /data/upload/6/7e2910d8-IMG_0203.JPG\n",
            "Warning: Image not found: /data/upload/6/fb02c624-IMG_0204.JPG\n",
            "Warning: Image not found: /data/upload/6/eb0b1d50-IMG_0205.JPG\n",
            "Warning: Image not found: /data/upload/6/9096598e-IMG_0206.JPG\n",
            "Warning: Image not found: /data/upload/6/a89c2094-IMG_0207.JPG\n",
            "Warning: Image not found: /data/upload/6/74d24854-IMG_0208.JPG\n",
            "Warning: Image not found: /data/upload/6/e2301157-IMG_0209.JPG\n",
            "Warning: Image not found: /data/upload/6/27a4af99-IMG_0210.JPG\n",
            "Warning: Image not found: /data/upload/6/308913a1-IMG_0211.JPG\n",
            "Warning: Image not found: /data/upload/6/aa79ee98-IMG_0212.JPG\n",
            "Warning: Image not found: /data/upload/6/43d2c1d4-IMG_0213.JPG\n",
            "Warning: Image not found: /data/upload/6/39311c58-IMG_0214.JPG\n",
            "Warning: Image not found: /data/upload/6/26ba7c65-IMG_0215.JPG\n",
            "Warning: Image not found: /data/upload/6/bb47ea02-IMG_0216.JPG\n",
            "Warning: Image not found: /data/upload/6/99b56b4d-IMG_0217.JPG\n",
            "Warning: Image not found: /data/upload/6/d52d6110-IMG_0218.JPG\n",
            "Warning: Image not found: /data/upload/6/fc6dd1fb-IMG_0219.JPG\n",
            "Warning: Image not found: /data/upload/6/505a05ea-IMG_0220.JPG\n",
            "Warning: Image not found: /data/upload/6/098c0d1c-IMG_0221.JPG\n",
            "Warning: Image not found: /data/upload/6/6bdcdfcf-IMG_0222.JPG\n",
            "Warning: Image not found: /data/upload/6/3d1d0921-IMG_0223.JPG\n",
            "Warning: Image not found: /data/upload/6/304f5a2b-IMG_0224.JPG\n",
            "Warning: Image not found: /data/upload/6/15b26954-IMG_0225.JPG\n",
            "Warning: Image not found: /data/upload/6/8b78d329-IMG_0226.JPG\n",
            "Warning: Image not found: /data/upload/6/094caa14-IMG_0227.JPG\n",
            "Warning: Image not found: /data/upload/6/c33a8d7f-IMG_0228.JPG\n",
            "Warning: Image not found: /data/upload/6/f851c105-IMG_0229.JPG\n",
            "Warning: Image not found: /data/upload/6/8eb5c394-IMG_0230.JPG\n",
            "Warning: Image not found: /data/upload/6/38fd2cd9-IMG_0231.JPG\n",
            "Warning: Image not found: /data/upload/6/e9d55f21-IMG_0232.JPG\n",
            "Warning: Image not found: /data/upload/6/f894fd58-IMG_0233.JPG\n",
            "Warning: Image not found: /data/upload/6/d6dae224-IMG_0234.JPG\n",
            "Warning: Image not found: /data/upload/6/1091f2db-IMG_0235.JPG\n",
            "Warning: Image not found: /data/upload/6/d7df1f1e-IMG_0236.JPG\n",
            "Warning: Image not found: /data/upload/6/c3a8f12f-IMG_0237.JPG\n",
            "Warning: Image not found: /data/upload/6/67aeab55-IMG_0238.JPG\n",
            "Warning: Image not found: /data/upload/6/92546499-IMG_0239.JPG\n",
            "Warning: Image not found: /data/upload/6/1e933a3b-IMG_0240.JPG\n",
            "Warning: Image not found: /data/upload/6/2e5e5fcd-IMG_0241.JPG\n",
            "Warning: Image not found: /data/upload/6/56760c80-IMG_0242.JPG\n",
            "Warning: Image not found: /data/upload/6/a22de6c4-IMG_0243.JPG\n",
            "Warning: Image not found: /data/upload/6/a1430ecc-IMG_0244.JPG\n",
            "Warning: Image not found: /data/upload/6/dabe608a-IMG_0245.JPG\n",
            "Warning: Image not found: /data/upload/6/e9754840-IMG_0246.JPG\n",
            "Warning: Image not found: /data/upload/6/194e695d-IMG_0247.JPG\n",
            "Warning: Image not found: /data/upload/6/f6c14131-IMG_0248.JPG\n",
            "Warning: Image not found: /data/upload/6/9f4c6eb8-IMG_0249.JPG\n",
            "Warning: Image not found: /data/upload/6/3a8975bc-IMG_0250.JPG\n",
            "Warning: Image not found: /data/upload/6/f175d603-IMG_0251.JPG\n",
            "Warning: Image not found: /data/upload/6/a558ab4d-IMG_0252.JPG\n",
            "Warning: Image not found: /data/upload/6/e422cb9b-IMG_0253.JPG\n",
            "Warning: Image not found: /data/upload/6/665ad3c6-IMG_0254.JPG\n",
            "Warning: Image not found: /data/upload/6/9aa29cca-IMG_0255.JPG\n",
            "Warning: Image not found: /data/upload/6/a167d3ac-IMG_0256.JPG\n",
            "Warning: Image not found: /data/upload/6/849aa27c-IMG_0257.JPG\n",
            "Warning: Image not found: /data/upload/6/13946656-IMG_0258.JPG\n",
            "Warning: Image not found: /data/upload/6/90425a00-IMG_0259.JPG\n",
            "Warning: Image not found: /data/upload/6/725ebf1c-IMG_0260.JPG\n",
            "Warning: Image not found: /data/upload/6/69d4068a-IMG_0261.JPG\n",
            "Warning: Image not found: /data/upload/6/c7fc45c6-IMG_0262.JPG\n",
            "Warning: Image not found: /data/upload/6/7993b552-IMG_0263.JPG\n",
            "Warning: Image not found: /data/upload/6/79ea8385-IMG_0264.JPG\n",
            "Warning: Image not found: /data/upload/6/b18d6fb3-IMG_0265.JPG\n",
            "Warning: Image not found: /data/upload/6/ffe452e4-IMG_0266.JPG\n",
            "Warning: Image not found: /data/upload/6/b006a0f6-IMG_0267.JPG\n",
            "Warning: Image not found: /data/upload/6/b191d8de-IMG_0268.JPG\n",
            "Warning: Image not found: /data/upload/6/27619966-IMG_0269.JPG\n",
            "Warning: Image not found: /data/upload/6/7242466c-IMG_0270.JPG\n",
            "Warning: Image not found: /data/upload/6/b2cc7824-IMG_0271.JPG\n",
            "Warning: Image not found: /data/upload/6/d69ac010-IMG_0272.JPG\n",
            "Warning: Image not found: /data/upload/6/ea0a1a76-IMG_0273.JPG\n",
            "Warning: Image not found: /data/upload/6/4bd3b19b-IMG_0274.JPG\n",
            "Warning: Image not found: /data/upload/6/2d363030-IMG_0275.JPG\n",
            "Warning: Image not found: /data/upload/6/d768857d-IMG_9753.JPG\n",
            "Warning: Image not found: /data/upload/6/cc73003d-IMG_9754.JPG\n",
            "Warning: Image not found: /data/upload/6/edc35fdd-IMG_9755.JPG\n",
            "Warning: Image not found: /data/upload/6/1de89b93-IMG_9756.JPG\n",
            "Warning: Image not found: /data/upload/6/349afbcf-IMG_9758.JPG\n",
            "Warning: Image not found: /data/upload/6/c019434a-IMG_9759.JPG\n",
            "Warning: Image not found: /data/upload/6/b81a0e64-IMG_9760.JPG\n",
            "Warning: Image not found: /data/upload/6/aad37a80-IMG_9761.JPG\n",
            "Warning: Image not found: /data/upload/6/cf48c842-IMG_9774.JPG\n",
            "Warning: Image not found: /data/upload/6/89da0b28-IMG_9775.JPG\n",
            "Warning: Image not found: /data/upload/6/54b31a5f-IMG_9776.JPG\n",
            "Warning: Image not found: /data/upload/6/5b210d4a-IMG_9777.JPG\n",
            "Warning: Image not found: /data/upload/6/0d3abd79-IMG_9778.JPG\n",
            "Warning: Image not found: /data/upload/6/7eb50793-IMG_9779.JPG\n",
            "Warning: Image not found: /data/upload/6/45d7d375-IMG_9780.JPG\n",
            "Warning: Image not found: /data/upload/6/de1814fb-IMG_9781.JPG\n",
            "Warning: Image not found: /data/upload/6/8492d1f8-IMG_9782.JPG\n",
            "Warning: Image not found: /data/upload/6/3c54a4ed-IMG_9794.JPG\n",
            "Warning: Image not found: /data/upload/6/c43b9499-IMG_9795.JPG\n",
            "Warning: Image not found: /data/upload/6/e9c68517-IMG_9796.JPG\n",
            "Warning: Image not found: /data/upload/6/5ce6f294-IMG_9797.JPG\n",
            "Warning: Image not found: /data/upload/6/79da8867-IMG_9798.JPG\n",
            "Warning: Image not found: /data/upload/6/14a75c8f-IMG_9799.JPG\n",
            "Warning: Image not found: /data/upload/6/6ac44678-IMG_9800.JPG\n",
            "Warning: Image not found: /data/upload/6/a631331a-IMG_9801.JPG\n",
            "Warning: Image not found: /data/upload/6/e31dfa05-IMG_9802.JPG\n",
            "Warning: Image not found: /data/upload/6/d99d27fe-IMG_9814.JPG\n",
            "Warning: Image not found: /data/upload/6/dfaaccaf-IMG_9815.JPG\n",
            "Warning: Image not found: /data/upload/6/69530453-IMG_9816.JPG\n",
            "Warning: Image not found: /data/upload/6/65b07bf9-IMG_9817.JPG\n",
            "Warning: Image not found: /data/upload/6/9c5d4c69-IMG_9818.JPG\n",
            "Warning: Image not found: /data/upload/6/8ad7addd-IMG_9819.JPG\n",
            "Warning: Image not found: /data/upload/6/18bcfc84-IMG_9820.JPG\n",
            "Warning: Image not found: /data/upload/6/b40dd810-IMG_9821.JPG\n",
            "Warning: Image not found: /data/upload/6/80e3703d-IMG_9822.JPG\n",
            "Warning: Image not found: /data/upload/6/eda8a606-IMG_9834.JPG\n",
            "Warning: Image not found: /data/upload/6/0f7e46e9-IMG_9835.JPG\n",
            "Warning: Image not found: /data/upload/6/f767dc51-IMG_9836.JPG\n",
            "Warning: Image not found: /data/upload/6/78996b04-IMG_9837.JPG\n",
            "Warning: Image not found: /data/upload/6/26f383de-IMG_9838.JPG\n",
            "Warning: Image not found: /data/upload/6/1fa83b05-IMG_9839.JPG\n",
            "Warning: Image not found: /data/upload/6/3ef0c30a-IMG_9840.JPG\n",
            "Warning: Image not found: /data/upload/6/b68f4574-IMG_9841.JPG\n",
            "Warning: Image not found: /data/upload/6/4bb8d574-IMG_9842.JPG\n"
          ]
        }
      ]
    },
    {
      "cell_type": "code",
      "source": [
        "# Check if any features were extracted\n",
        "if hsv_features_validation.size == 0:\n",
        "    print(\"Error: No features were extracted for the validation set. Check your data loading and feature extraction process.\")\n",
        "else:\n",
        "    # Reshape the features to a 2D array if necessary\n",
        "    if hsv_features_validation.ndim == 1:\n",
        "        hsv_features_validation = hsv_features_validation.reshape(-1, 1)  # Reshape if it's a 1D array\n",
        "\n",
        "    # Predict with the trained model on validation dataset\n",
        "    y_validation_pred = knn.predict(hsv_features_validation)\n",
        "    accuracy_validation = accuracy_score(labels_validation, y_validation_pred)\n",
        "    print(f'Validation Accuracy: {accuracy_validation * 100:.2f}%')"
      ],
      "metadata": {
        "colab": {
          "base_uri": "https://localhost:8080/",
          "height": 426
        },
        "id": "1gIwBKACKLKB",
        "outputId": "d7de9301-df0a-4252-bff9-a973f8e5e003"
      },
      "execution_count": null,
      "outputs": [
        {
          "output_type": "error",
          "ename": "ValueError",
          "evalue": "Expected 2D array, got 1D array instead:\narray=[].\nReshape your data either using array.reshape(-1, 1) if your data has a single feature or array.reshape(1, -1) if it contains a single sample.",
          "traceback": [
            "\u001b[0;31m---------------------------------------------------------------------------\u001b[0m",
            "\u001b[0;31mValueError\u001b[0m                                Traceback (most recent call last)",
            "\u001b[0;32m<ipython-input-82-c9789cad77ea>\u001b[0m in \u001b[0;36m<cell line: 2>\u001b[0;34m()\u001b[0m\n\u001b[1;32m      1\u001b[0m \u001b[0;31m# Predict with the trained model on validation dataset\u001b[0m\u001b[0;34m\u001b[0m\u001b[0;34m\u001b[0m\u001b[0m\n\u001b[0;32m----> 2\u001b[0;31m \u001b[0my_validation_pred\u001b[0m \u001b[0;34m=\u001b[0m \u001b[0mknn\u001b[0m\u001b[0;34m.\u001b[0m\u001b[0mpredict\u001b[0m\u001b[0;34m(\u001b[0m\u001b[0mhsv_features_validation\u001b[0m\u001b[0;34m)\u001b[0m\u001b[0;34m\u001b[0m\u001b[0;34m\u001b[0m\u001b[0m\n\u001b[0m\u001b[1;32m      3\u001b[0m \u001b[0maccuracy_validation\u001b[0m \u001b[0;34m=\u001b[0m \u001b[0maccuracy_score\u001b[0m\u001b[0;34m(\u001b[0m\u001b[0mlabels_validation\u001b[0m\u001b[0;34m,\u001b[0m \u001b[0my_validation_pred\u001b[0m\u001b[0;34m)\u001b[0m\u001b[0;34m\u001b[0m\u001b[0;34m\u001b[0m\u001b[0m\n\u001b[1;32m      4\u001b[0m \u001b[0mprint\u001b[0m\u001b[0;34m(\u001b[0m\u001b[0;34mf'Validation Accuracy: {accuracy_validation * 100:.2f}%'\u001b[0m\u001b[0;34m)\u001b[0m\u001b[0;34m\u001b[0m\u001b[0;34m\u001b[0m\u001b[0m\n",
            "\u001b[0;32m/usr/local/lib/python3.10/dist-packages/sklearn/neighbors/_classification.py\u001b[0m in \u001b[0;36mpredict\u001b[0;34m(self, X)\u001b[0m\n\u001b[1;32m    232\u001b[0m             \u001b[0;31m# In that case, we do not need the distances to perform\u001b[0m\u001b[0;34m\u001b[0m\u001b[0;34m\u001b[0m\u001b[0m\n\u001b[1;32m    233\u001b[0m             \u001b[0;31m# the weighting so we do not compute them.\u001b[0m\u001b[0;34m\u001b[0m\u001b[0;34m\u001b[0m\u001b[0m\n\u001b[0;32m--> 234\u001b[0;31m             \u001b[0mneigh_ind\u001b[0m \u001b[0;34m=\u001b[0m \u001b[0mself\u001b[0m\u001b[0;34m.\u001b[0m\u001b[0mkneighbors\u001b[0m\u001b[0;34m(\u001b[0m\u001b[0mX\u001b[0m\u001b[0;34m,\u001b[0m \u001b[0mreturn_distance\u001b[0m\u001b[0;34m=\u001b[0m\u001b[0;32mFalse\u001b[0m\u001b[0;34m)\u001b[0m\u001b[0;34m\u001b[0m\u001b[0;34m\u001b[0m\u001b[0m\n\u001b[0m\u001b[1;32m    235\u001b[0m             \u001b[0mneigh_dist\u001b[0m \u001b[0;34m=\u001b[0m \u001b[0;32mNone\u001b[0m\u001b[0;34m\u001b[0m\u001b[0;34m\u001b[0m\u001b[0m\n\u001b[1;32m    236\u001b[0m         \u001b[0;32melse\u001b[0m\u001b[0;34m:\u001b[0m\u001b[0;34m\u001b[0m\u001b[0;34m\u001b[0m\u001b[0m\n",
            "\u001b[0;32m/usr/local/lib/python3.10/dist-packages/sklearn/neighbors/_base.py\u001b[0m in \u001b[0;36mkneighbors\u001b[0;34m(self, X, n_neighbors, return_distance)\u001b[0m\n\u001b[1;32m    804\u001b[0m                 \u001b[0mX\u001b[0m \u001b[0;34m=\u001b[0m \u001b[0m_check_precomputed\u001b[0m\u001b[0;34m(\u001b[0m\u001b[0mX\u001b[0m\u001b[0;34m)\u001b[0m\u001b[0;34m\u001b[0m\u001b[0;34m\u001b[0m\u001b[0m\n\u001b[1;32m    805\u001b[0m             \u001b[0;32melse\u001b[0m\u001b[0;34m:\u001b[0m\u001b[0;34m\u001b[0m\u001b[0;34m\u001b[0m\u001b[0m\n\u001b[0;32m--> 806\u001b[0;31m                 \u001b[0mX\u001b[0m \u001b[0;34m=\u001b[0m \u001b[0mself\u001b[0m\u001b[0;34m.\u001b[0m\u001b[0m_validate_data\u001b[0m\u001b[0;34m(\u001b[0m\u001b[0mX\u001b[0m\u001b[0;34m,\u001b[0m \u001b[0maccept_sparse\u001b[0m\u001b[0;34m=\u001b[0m\u001b[0;34m\"csr\"\u001b[0m\u001b[0;34m,\u001b[0m \u001b[0mreset\u001b[0m\u001b[0;34m=\u001b[0m\u001b[0;32mFalse\u001b[0m\u001b[0;34m,\u001b[0m \u001b[0morder\u001b[0m\u001b[0;34m=\u001b[0m\u001b[0;34m\"C\"\u001b[0m\u001b[0;34m)\u001b[0m\u001b[0;34m\u001b[0m\u001b[0;34m\u001b[0m\u001b[0m\n\u001b[0m\u001b[1;32m    807\u001b[0m \u001b[0;34m\u001b[0m\u001b[0m\n\u001b[1;32m    808\u001b[0m         \u001b[0mn_samples_fit\u001b[0m \u001b[0;34m=\u001b[0m \u001b[0mself\u001b[0m\u001b[0;34m.\u001b[0m\u001b[0mn_samples_fit_\u001b[0m\u001b[0;34m\u001b[0m\u001b[0;34m\u001b[0m\u001b[0m\n",
            "\u001b[0;32m/usr/local/lib/python3.10/dist-packages/sklearn/base.py\u001b[0m in \u001b[0;36m_validate_data\u001b[0;34m(self, X, y, reset, validate_separately, **check_params)\u001b[0m\n\u001b[1;32m    563\u001b[0m             \u001b[0;32mraise\u001b[0m \u001b[0mValueError\u001b[0m\u001b[0;34m(\u001b[0m\u001b[0;34m\"Validation should be done on X, y or both.\"\u001b[0m\u001b[0;34m)\u001b[0m\u001b[0;34m\u001b[0m\u001b[0;34m\u001b[0m\u001b[0m\n\u001b[1;32m    564\u001b[0m         \u001b[0;32melif\u001b[0m \u001b[0;32mnot\u001b[0m \u001b[0mno_val_X\u001b[0m \u001b[0;32mand\u001b[0m \u001b[0mno_val_y\u001b[0m\u001b[0;34m:\u001b[0m\u001b[0;34m\u001b[0m\u001b[0;34m\u001b[0m\u001b[0m\n\u001b[0;32m--> 565\u001b[0;31m             \u001b[0mX\u001b[0m \u001b[0;34m=\u001b[0m \u001b[0mcheck_array\u001b[0m\u001b[0;34m(\u001b[0m\u001b[0mX\u001b[0m\u001b[0;34m,\u001b[0m \u001b[0minput_name\u001b[0m\u001b[0;34m=\u001b[0m\u001b[0;34m\"X\"\u001b[0m\u001b[0;34m,\u001b[0m \u001b[0;34m**\u001b[0m\u001b[0mcheck_params\u001b[0m\u001b[0;34m)\u001b[0m\u001b[0;34m\u001b[0m\u001b[0;34m\u001b[0m\u001b[0m\n\u001b[0m\u001b[1;32m    566\u001b[0m             \u001b[0mout\u001b[0m \u001b[0;34m=\u001b[0m \u001b[0mX\u001b[0m\u001b[0;34m\u001b[0m\u001b[0;34m\u001b[0m\u001b[0m\n\u001b[1;32m    567\u001b[0m         \u001b[0;32melif\u001b[0m \u001b[0mno_val_X\u001b[0m \u001b[0;32mand\u001b[0m \u001b[0;32mnot\u001b[0m \u001b[0mno_val_y\u001b[0m\u001b[0;34m:\u001b[0m\u001b[0;34m\u001b[0m\u001b[0;34m\u001b[0m\u001b[0m\n",
            "\u001b[0;32m/usr/local/lib/python3.10/dist-packages/sklearn/utils/validation.py\u001b[0m in \u001b[0;36mcheck_array\u001b[0;34m(array, accept_sparse, accept_large_sparse, dtype, order, copy, force_all_finite, ensure_2d, allow_nd, ensure_min_samples, ensure_min_features, estimator, input_name)\u001b[0m\n\u001b[1;32m    900\u001b[0m             \u001b[0;31m# If input is 1D raise error\u001b[0m\u001b[0;34m\u001b[0m\u001b[0;34m\u001b[0m\u001b[0m\n\u001b[1;32m    901\u001b[0m             \u001b[0;32mif\u001b[0m \u001b[0marray\u001b[0m\u001b[0;34m.\u001b[0m\u001b[0mndim\u001b[0m \u001b[0;34m==\u001b[0m \u001b[0;36m1\u001b[0m\u001b[0;34m:\u001b[0m\u001b[0;34m\u001b[0m\u001b[0;34m\u001b[0m\u001b[0m\n\u001b[0;32m--> 902\u001b[0;31m                 raise ValueError(\n\u001b[0m\u001b[1;32m    903\u001b[0m                     \u001b[0;34m\"Expected 2D array, got 1D array instead:\\narray={}.\\n\"\u001b[0m\u001b[0;34m\u001b[0m\u001b[0;34m\u001b[0m\u001b[0m\n\u001b[1;32m    904\u001b[0m                     \u001b[0;34m\"Reshape your data either using array.reshape(-1, 1) if \"\u001b[0m\u001b[0;34m\u001b[0m\u001b[0;34m\u001b[0m\u001b[0m\n",
            "\u001b[0;31mValueError\u001b[0m: Expected 2D array, got 1D array instead:\narray=[].\nReshape your data either using array.reshape(-1, 1) if your data has a single feature or array.reshape(1, -1) if it contains a single sample."
          ]
        }
      ]
    },
    {
      "cell_type": "code",
      "source": [
        "# Print validation classification report\n",
        "print(classification_report(labels_validation, y_validation_pred))"
      ],
      "metadata": {
        "id": "C-Zbx4t7KNDQ"
      },
      "execution_count": null,
      "outputs": []
    },
    {
      "cell_type": "code",
      "source": [
        "# Display confusion matrix for validation data\n",
        "conf_matrix_validation = confusion_matrix(labels_validation, y_validation_pred)\n",
        "plt.figure(figsize=(8, 6))\n",
        "sns.heatmap(conf_matrix_validation, annot=True, fmt='d', cmap='Blues')\n",
        "plt.xlabel('Predicted')\n",
        "plt.ylabel('Actual')\n",
        "plt.title('Confusion Matrix for Validation Data')\n",
        "plt.show()"
      ],
      "metadata": {
        "id": "f4akNKc4KOtB"
      },
      "execution_count": null,
      "outputs": []
    },
    {
      "cell_type": "code",
      "source": [
        "# Test on images from test.csv\n",
        "test_labels_path = test_csv_path\n",
        "test_labels_dict = load_labels(test_labels_path)\n",
        "\n",
        "hsv_features_test = []\n",
        "labels_test = []\n",
        "\n",
        "for index, row in test_data.iterrows():\n",
        "    img_path = os.path.join(test_image_folder_path, row['image_id'])\n",
        "    if os.path.exists(img_path):\n",
        "        resize_image = load_images(img_path, size=(224, 224))\n",
        "        rgb_hsv = rgb_to_hsv_features(resize_image)\n",
        "        hsv_features_test.append(rgb_hsv)\n",
        "        labels_test.append(test_labels_dict[row['image_id']])\n",
        "\n",
        "hsv_features_test = np.array(hsv_features_test)\n",
        "labels_test = np.array(labels_test)"
      ],
      "metadata": {
        "id": "CX_r4pA_HYvq"
      },
      "execution_count": null,
      "outputs": []
    },
    {
      "cell_type": "code",
      "source": [
        "# Predict with the trained model on test dataset\n",
        "y_test_pred = knn.predict(hsv_features_test)\n",
        "accuracy_test = accuracy_score(labels_test, y_test_pred)\n",
        "print(f'Test Accuracy: {accuracy_test * 100:.2f}%')"
      ],
      "metadata": {
        "id": "DxYEY5GyHaAi"
      },
      "execution_count": null,
      "outputs": []
    },
    {
      "cell_type": "code",
      "source": [
        "# Print test classification report\n",
        "print(classification_report(labels_test, y_test_pred))"
      ],
      "metadata": {
        "id": "TAf-baB3Hbpy"
      },
      "execution_count": null,
      "outputs": []
    },
    {
      "cell_type": "code",
      "source": [
        "# Display confusion matrix for test data\n",
        "conf_matrix_test = confusion_matrix(labels_test, y_test_pred)\n",
        "plt.figure(figsize=(8, 6))\n",
        "sns.heatmap(conf_matrix_test, annot=True, fmt='d', cmap='Blues')\n",
        "plt.xlabel('Predicted')\n",
        "plt.ylabel('Actual')\n",
        "plt.title('Confusion Matrix for Test Data')\n",
        "plt.show()"
      ],
      "metadata": {
        "id": "Hgbf08wcJevX"
      },
      "execution_count": null,
      "outputs": []
    }
  ]
}
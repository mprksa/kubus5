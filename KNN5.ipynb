{
  "nbformat": 4,
  "nbformat_minor": 0,
  "metadata": {
    "colab": {
      "provenance": [],
      "authorship_tag": "ABX9TyMTGuAo8WJFpVMTB9QaWqWo",
      "include_colab_link": true
    },
    "kernelspec": {
      "name": "python3",
      "display_name": "Python 3"
    },
    "language_info": {
      "name": "python"
    }
  },
  "cells": [
    {
      "cell_type": "markdown",
      "metadata": {
        "id": "view-in-github",
        "colab_type": "text"
      },
      "source": [
        "<a href=\"https://colab.research.google.com/github/mprksa/kubus5/blob/main/KNN5.ipynb\" target=\"_parent\"><img src=\"https://colab.research.google.com/assets/colab-badge.svg\" alt=\"Open In Colab\"/></a>"
      ]
    },
    {
      "cell_type": "code",
      "source": [
        "!git clone https://github.com/mprksa/Blocks2.git"
      ],
      "metadata": {
        "colab": {
          "base_uri": "https://localhost:8080/"
        },
        "id": "eEorLS580tuT",
        "outputId": "a4cc67c7-04ec-4970-f1ce-d1253260f8f6"
      },
      "execution_count": 1,
      "outputs": [
        {
          "output_type": "stream",
          "name": "stdout",
          "text": [
            "Cloning into 'Blocks2'...\n",
            "remote: Enumerating objects: 887, done.\u001b[K\n",
            "remote: Counting objects: 100% (887/887), done.\u001b[K\n",
            "remote: Compressing objects: 100% (873/873), done.\u001b[K\n",
            "remote: Total 887 (delta 36), reused 0 (delta 0), pack-reused 0\u001b[K\n",
            "Receiving objects: 100% (887/887), 1.82 GiB | 23.65 MiB/s, done.\n",
            "Resolving deltas: 100% (36/36), done.\n",
            "Updating files: 100% (729/729), done.\n"
          ]
        }
      ]
    },
    {
      "cell_type": "code",
      "execution_count": 2,
      "metadata": {
        "id": "GgTDRPIc0JAK"
      },
      "outputs": [],
      "source": [
        "import os\n",
        "import cv2\n",
        "import json\n",
        "import numpy as np\n",
        "import pandas as pd\n",
        "import matplotlib.pyplot as plt\n",
        "from sklearn.neighbors import KNeighborsClassifier\n",
        "from sklearn.metrics import accuracy_score, classification_report, confusion_matrix\n",
        "import joblib"
      ]
    },
    {
      "cell_type": "code",
      "source": [
        "# Fungsi untuk memuat gambar dan label\n",
        "def load_data(image_folder, label_file, image_size=(256, 256)):\n",
        "    images = []\n",
        "    labels = []\n",
        "\n",
        "    with open(label_file, 'r') as f:\n",
        "        data = json.load(f)\n",
        "\n",
        "    # Create a dictionary to map image_id to file_name\n",
        "    image_id_to_filename = {image['id']: image['file_name'] for image in data['images']}\n",
        "    # Create a dictionary to map category_id to category_name\n",
        "    category_id_to_name = {category['id']: category['name'] for category in data['categories']}\n",
        "\n",
        "    for annotation in data['annotations']:\n",
        "        image_id = annotation['image_id']\n",
        "        category_id = annotation['category_id']\n",
        "\n",
        "        img_path = os.path.join(image_folder, image_id_to_filename[image_id])\n",
        "        if os.path.exists(img_path):\n",
        "            img = cv2.imread(img_path)\n",
        "            if img is not None:\n",
        "                img = cv2.resize(img, image_size)\n",
        "                img_hsv = cv2.cvtColor(img, cv2.COLOR_BGR2HSV)\n",
        "                images.append(img_hsv.flatten())  # Flatten HSV image\n",
        "                labels.append(category_id_to_name[category_id])\n",
        "\n",
        "    return np.array(images), np.array(labels)"
      ],
      "metadata": {
        "id": "TkAU1Ce10K5J"
      },
      "execution_count": 3,
      "outputs": []
    },
    {
      "cell_type": "code",
      "source": [
        "# Muat data\n",
        "train_images, train_labels = load_data('Blocks2/train/images', 'Blocks2/train/labels.json')\n",
        "test_images, test_labels = load_data('Blocks2/test/images', 'Blocks2/test/labels.json')\n",
        "val_images, val_labels = load_data('Blocks2/validation/images', 'Blocks2/validation/labels.json')\n",
        "\n",
        "# Tampilkan jumlah gambar\n",
        "print(f\"Jumlah gambar untuk pelatihan: {len(train_images)}\")\n",
        "print(f\"Jumlah gambar untuk testing: {len(test_images)}\")\n",
        "print(f\"Jumlah gambar untuk validasi: {len(val_images)}\")"
      ],
      "metadata": {
        "colab": {
          "base_uri": "https://localhost:8080/"
        },
        "id": "LjJpxsmI0PxA",
        "outputId": "c7f52659-deba-424e-a79f-6e04d66d32be"
      },
      "execution_count": 4,
      "outputs": [
        {
          "output_type": "stream",
          "name": "stdout",
          "text": [
            "Jumlah gambar untuk pelatihan: 508\n",
            "Jumlah gambar untuk testing: 72\n",
            "Jumlah gambar untuk validasi: 144\n"
          ]
        }
      ]
    },
    {
      "cell_type": "code",
      "source": [
        "# Training model dengan K-NN\n",
        "def train_knn(train_features, train_labels, val_features, val_labels):\n",
        "    knn = KNeighborsClassifier(n_neighbors=3)\n",
        "\n",
        "    # Training model K-NN dengan data latihan\n",
        "    knn.fit(train_features, train_labels)\n",
        "\n",
        "    # Evaluasi pada data pelatihan dan validasi\n",
        "    train_predictions = knn.predict(train_features)\n",
        "    val_predictions = knn.predict(val_features)\n",
        "\n",
        "    train_accuracy = accuracy_score(train_labels, train_predictions)\n",
        "    val_accuracy = accuracy_score(val_labels, val_predictions)\n",
        "\n",
        "    print(f\"Akurasi Pelatihan: {train_accuracy:.4f} | Akurasi Validasi: {val_accuracy:.4f}\")\n",
        "\n",
        "    return knn, train_accuracy, val_accuracy # Return accuracies as well"
      ],
      "metadata": {
        "id": "27gFUpK-0SeB"
      },
      "execution_count": 13,
      "outputs": []
    },
    {
      "cell_type": "code",
      "source": [
        "# Ekstraksi fitur untuk setiap dataset (gunakan flatten untuk K-NN)\n",
        "def extract_features(images):\n",
        "    return images\n",
        "\n",
        "train_features = extract_features(train_images)\n",
        "test_features = extract_features(test_images)\n",
        "val_features = extract_features(val_images)\n",
        "\n",
        "# Training model\n",
        "knn_model, train_accuracy, val_accuracy = train_knn(train_features, train_labels, val_features, val_labels)"
      ],
      "metadata": {
        "colab": {
          "base_uri": "https://localhost:8080/"
        },
        "id": "SCKic1z20UMh",
        "outputId": "68ebd13a-283e-44e3-d1f4-501560c1f048"
      },
      "execution_count": 14,
      "outputs": [
        {
          "output_type": "stream",
          "name": "stdout",
          "text": [
            "Akurasi Pelatihan: 0.8917 | Akurasi Validasi: 0.4167\n"
          ]
        }
      ]
    },
    {
      "cell_type": "code",
      "source": [
        "# Create lists to store accuracies (initialize with first values)\n",
        "train_accuracies = [train_accuracy]\n",
        "val_accuracies = [val_accuracy]"
      ],
      "metadata": {
        "id": "_ka10pVT3ux6"
      },
      "execution_count": 15,
      "outputs": []
    },
    {
      "cell_type": "code",
      "source": [
        "# Evaluasi model K-NN\n",
        "train_predictions = knn_model.predict(train_features)\n",
        "test_predictions = knn_model.predict(test_features)\n",
        "val_predictions = knn_model.predict(val_features)"
      ],
      "metadata": {
        "id": "7u0mxpx50aBh"
      },
      "execution_count": 16,
      "outputs": []
    },
    {
      "cell_type": "code",
      "source": [
        "# Evaluasi akurasi\n",
        "train_accuracy = accuracy_score(train_labels, train_predictions)\n",
        "test_accuracy = accuracy_score(test_labels, test_predictions)\n",
        "val_accuracy = accuracy_score(val_labels, val_predictions)\n",
        "\n",
        "print(f\"Akurasi Pelatihan: {train_accuracy:.4f}\")\n",
        "print(f\"Akurasi Testing: {test_accuracy:.4f}\")\n",
        "print(f\"Akurasi Validasi: {val_accuracy:.4f}\")"
      ],
      "metadata": {
        "colab": {
          "base_uri": "https://localhost:8080/"
        },
        "id": "qvxBr4Qk0c4p",
        "outputId": "dad571d5-45a8-4de5-8bd2-90855204dadb"
      },
      "execution_count": 17,
      "outputs": [
        {
          "output_type": "stream",
          "name": "stdout",
          "text": [
            "Akurasi Pelatihan: 0.8917\n",
            "Akurasi Testing: 0.2778\n",
            "Akurasi Validasi: 0.4167\n"
          ]
        }
      ]
    },
    {
      "cell_type": "code",
      "source": [
        "# Simpan model K-NN\n",
        "joblib.dump(knn_model, 'knn_model.pkl')"
      ],
      "metadata": {
        "id": "lMW1F8Lp0f8C"
      },
      "execution_count": null,
      "outputs": []
    },
    {
      "cell_type": "code",
      "source": [
        "# Hitung rata-rata H, S, dan V untuk setiap kelas\n",
        "def calculate_class_hsv_means(features, labels):\n",
        "    unique_labels = np.unique(labels)\n",
        "    class_hsv_means = {}\n",
        "\n",
        "    for label in unique_labels:\n",
        "        class_indices = np.where(labels == label)\n",
        "        class_features = features[class_indices]\n",
        "        class_hsv_means[label] = np.mean(class_features, axis=0)\n",
        "\n",
        "    return class_hsv_means\n",
        "\n",
        "train_class_hsv_means = calculate_class_hsv_means(train_features, train_labels)"
      ],
      "metadata": {
        "id": "vI-x8t2c0h3q"
      },
      "execution_count": 19,
      "outputs": []
    },
    {
      "cell_type": "code",
      "source": [
        "# Tampilkan dalam bentuk tabel menggunakan pandas\n",
        "# Restructure the dictionary for pandas DataFrame\n",
        "restructured_data = {\n",
        "    'Rata-rata H': [v[0] for v in train_class_hsv_means.values()],\n",
        "    'Rata-rata S': [v[1] for v in train_class_hsv_means.values()],\n",
        "    'Rata-rata V': [v[2] for v in train_class_hsv_means.values()]\n",
        "}\n",
        "\n",
        "df = pd.DataFrame(restructured_data, index=train_class_hsv_means.keys())\n",
        "print(df)"
      ],
      "metadata": {
        "colab": {
          "base_uri": "https://localhost:8080/"
        },
        "id": "jlujTU6z0nSC",
        "outputId": "d64f62a2-2553-475f-945c-2751d830c141"
      },
      "execution_count": 22,
      "outputs": [
        {
          "output_type": "stream",
          "name": "stdout",
          "text": [
            "        Rata-rata H  Rata-rata S  Rata-rata V\n",
            "biru      19.712871    43.306931   154.841584\n",
            "hitam     20.313725    40.725490   165.833333\n",
            "kuning    23.705882    37.039216   141.823529\n",
            "merah     20.564356    36.059406   160.712871\n",
            "putih     20.029412    41.607843   143.558824\n"
          ]
        }
      ]
    },
    {
      "cell_type": "code",
      "source": [
        "# Tampilkan classification report dan confusion matrix untuk validasi\n",
        "val_class_report = classification_report(val_labels, val_predictions)\n",
        "val_conf_matrix = confusion_matrix(val_labels, val_predictions)"
      ],
      "metadata": {
        "id": "O-cG8nC70oea"
      },
      "execution_count": 23,
      "outputs": []
    },
    {
      "cell_type": "code",
      "source": [
        "print(\"Classification Report untuk Validasi:\")\n",
        "print(val_class_report)"
      ],
      "metadata": {
        "colab": {
          "base_uri": "https://localhost:8080/"
        },
        "id": "EimiYICx0qOq",
        "outputId": "1bf742be-7432-4a49-ba0a-4d306a67dfa3"
      },
      "execution_count": 24,
      "outputs": [
        {
          "output_type": "stream",
          "name": "stdout",
          "text": [
            "Classification Report untuk Validasi:\n",
            "              precision    recall  f1-score   support\n",
            "\n",
            "        biru       0.58      0.66      0.61        29\n",
            "       hitam       0.80      0.69      0.74        29\n",
            "      kuning       0.21      0.11      0.14        28\n",
            "       merah       0.14      0.14      0.14        29\n",
            "       putih       0.33      0.48      0.39        29\n",
            "\n",
            "    accuracy                           0.42       144\n",
            "   macro avg       0.41      0.41      0.40       144\n",
            "weighted avg       0.41      0.42      0.41       144\n",
            "\n"
          ]
        }
      ]
    },
    {
      "cell_type": "code",
      "source": [
        "print(\"Confusion Matrix untuk Validasi:\")\n",
        "print(val_conf_matrix)"
      ],
      "metadata": {
        "colab": {
          "base_uri": "https://localhost:8080/"
        },
        "id": "kjiUYNqT0req",
        "outputId": "3030e16e-899d-4c7d-f717-606ebcd57c11"
      },
      "execution_count": 25,
      "outputs": [
        {
          "output_type": "stream",
          "name": "stdout",
          "text": [
            "Confusion Matrix untuk Validasi:\n",
            "[[19  0  1  1  8]\n",
            " [ 0 20  0  0  9]\n",
            " [ 1  0  3 20  4]\n",
            " [ 8  0  9  4  8]\n",
            " [ 5  5  1  4 14]]\n"
          ]
        }
      ]
    },
    {
      "cell_type": "code",
      "source": [
        "# Plot Confusion Matrix\n",
        "plt.figure(figsize=(8, 6))\n",
        "plt.imshow(val_conf_matrix, interpolation='nearest', cmap=plt.cm.Blues)\n",
        "plt.title('Confusion Matrix')\n",
        "plt.colorbar()\n",
        "tick_marks = np.arange(len(np.unique(train_labels)))\n",
        "plt.xticks(tick_marks, np.unique(train_labels), rotation=45)\n",
        "plt.yticks(tick_marks, np.unique(train_labels))\n",
        "plt.ylabel('True label')\n",
        "plt.xlabel('Predicted label')\n",
        "plt.show()"
      ],
      "metadata": {
        "colab": {
          "base_uri": "https://localhost:8080/",
          "height": 593
        },
        "id": "eex4_wys0smq",
        "outputId": "05b46c06-0a97-4968-b7d0-06b7093b21e3"
      },
      "execution_count": 26,
      "outputs": [
        {
          "output_type": "display_data",
          "data": {
            "text/plain": [
              "<Figure size 800x600 with 2 Axes>"
            ],
            "image/png": "[encoded data removed]"
          },
          "metadata": {}
        }
      ]
    }
  ]
}
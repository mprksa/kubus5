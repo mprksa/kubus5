{
  "nbformat": 4,
  "nbformat_minor": 0,
  "metadata": {
    "colab": {
      "provenance": [],
      "authorship_tag": "ABX9TyM5TzOtpEvYZOOHj52N0oaT",
      "include_colab_link": true
    },
    "kernelspec": {
      "name": "python3",
      "display_name": "Python 3"
    },
    "language_info": {
      "name": "python"
    }
  },
  "cells": [
    {
      "cell_type": "markdown",
      "metadata": {
        "id": "view-in-github",
        "colab_type": "text"
      },
      "source": [
        "<a href=\"https://colab.research.google.com/github/mprksa/kubus5/blob/main/KNN7.ipynb\" target=\"_parent\"><img src=\"https://colab.research.google.com/assets/colab-badge.svg\" alt=\"Open In Colab\"/></a>"
      ]
    },
    {
      "cell_type": "code",
      "execution_count": 41,
      "metadata": {
        "id": "05rmJvvb-JOE"
      },
      "outputs": [],
      "source": [
        "import os\n",
        "import cv2\n",
        "import json\n",
        "import numpy as np\n",
        "import pandas as pd\n",
        "import matplotlib.pyplot as plt\n",
        "from sklearn.neighbors import KNeighborsClassifier\n",
        "from sklearn.tree import DecisionTreeClassifier\n",
        "from sklearn.metrics import accuracy_score, classification_report, confusion_matrix\n",
        "from sklearn.model_selection import GridSearchCV, train_test_split, cross_val_score, KFold\n",
        "import joblib\n",
        "import imgaug.augmenters as iaa\n",
        "from sklearn.preprocessing import StandardScaler, LabelEncoder"
      ]
    },
    {
      "cell_type": "code",
      "source": [
        "# Clone the repository\n",
        "!git clone https://github.com/mprksa/Blocks2.git"
      ],
      "metadata": {
        "colab": {
          "base_uri": "https://localhost:8080/"
        },
        "id": "ST72Dem0-rFm",
        "outputId": "9d0b203f-51f8-4777-d3aa-383eef4a72ba"
      },
      "execution_count": null,
      "outputs": [
        {
          "output_type": "stream",
          "name": "stdout",
          "text": [
            "Cloning into 'Blocks2'...\n",
            "remote: Enumerating objects: 887, done.\u001b[K\n",
            "remote: Counting objects: 100% (887/887), done.\u001b[K\n",
            "remote: Compressing objects: 100% (873/873), done.\u001b[K\n",
            "remote: Total 887 (delta 36), reused 0 (delta 0), pack-reused 0\u001b[K\n",
            "Receiving objects: 100% (887/887), 1.82 GiB | 24.20 MiB/s, done.\n",
            "Resolving deltas: 100% (36/36), done.\n",
            "Updating files: 100% (729/729), done.\n"
          ]
        }
      ]
    },
    {
      "cell_type": "code",
      "source": [
        "# Fungsi untuk memuat gambar dan label dengan augmentasi data\n",
        "def load_data(image_folder, label_file, image_size=(256, 256), augment=False):\n",
        "    images = []\n",
        "    labels = []\n",
        "\n",
        "    with open(label_file, 'r') as f:\n",
        "        data = json.load(f)\n",
        "\n",
        "    image_id_to_filename = {image['id']: image['file_name'] for image in data['images']}\n",
        "    category_id_to_name = {category['id']: category['name'] for category in data['categories']}\n",
        "\n",
        "    augmenters = iaa.Sequential([\n",
        "        iaa.Fliplr(0.5),  # horizontal flip\n",
        "        iaa.Affine(rotate=(-25, 25)),  # rotate\n",
        "        iaa.Multiply((0.8, 1.2))  # change brightness\n",
        "    ])\n",
        "\n",
        "    for annotation in data['annotations']:\n",
        "        image_id = annotation['image_id']\n",
        "        category_id = annotation['category_id']\n",
        "\n",
        "        img_path = os.path.join(image_folder, image_id_to_filename[image_id])\n",
        "        if os.path.exists(img_path):\n",
        "            img = cv2.imread(img_path)\n",
        "            if img is not None:\n",
        "                img = cv2.resize(img, image_size)\n",
        "                img_hsv = cv2.cvtColor(img, cv2.COLOR_BGR2HSV)\n",
        "                images.append(img_hsv.flatten())\n",
        "                labels.append(category_id_to_name[category_id])\n",
        "\n",
        "                if augment:\n",
        "                    aug_img = augmenters(image=img)\n",
        "                    aug_img_hsv = cv2.cvtColor(aug_img, cv2.COLOR_BGR2HSV)\n",
        "                    images.append(aug_img_hsv.flatten())\n",
        "                    labels.append(category_id_to_name[category_id])\n",
        "\n",
        "    return np.array(images), np.array(labels)"
      ],
      "metadata": {
        "id": "ifwifkCS-OJ7"
      },
      "execution_count": 42,
      "outputs": []
    },
    {
      "cell_type": "code",
      "source": [
        "# Muat data dengan augmentasi\n",
        "train_images, train_labels = load_data('Blocks2/train/images', 'Blocks2/train/labels.json', augment=True)\n",
        "test_images, test_labels = load_data('Blocks2/test/images', 'Blocks2/test/labels.json')\n",
        "val_images, val_labels = load_data('Blocks2/validation/images', 'Blocks2/validation/labels.json')"
      ],
      "metadata": {
        "id": "lbK5zDQ7-Smj"
      },
      "execution_count": 43,
      "outputs": []
    },
    {
      "cell_type": "code",
      "source": [
        "# Tampilkan jumlah gambar\n",
        "print(f\"Jumlah gambar untuk pelatihan: {len(train_images)}\")\n",
        "print(f\"Jumlah gambar untuk testing: {len(test_images)}\")\n",
        "print(f\"Jumlah gambar untuk validasi: {len(val_images)}\")"
      ],
      "metadata": {
        "colab": {
          "base_uri": "https://localhost:8080/"
        },
        "id": "Nmndm7OCAeMd",
        "outputId": "20d26cff-9470-4f86-baa1-8b7eae82e312"
      },
      "execution_count": 44,
      "outputs": [
        {
          "output_type": "stream",
          "name": "stdout",
          "text": [
            "Jumlah gambar untuk pelatihan: 1016\n",
            "Jumlah gambar untuk testing: 72\n",
            "Jumlah gambar untuk validasi: 144\n"
          ]
        }
      ]
    },
    {
      "cell_type": "code",
      "source": [
        "# Tampilkan label sebelum konversi\n",
        "print(\"Label sebelum konversi ke bentuk numerik:\")\n",
        "print(\"Training Labels:\", np.unique(train_labels))\n",
        "print(\"Testing Labels:\", np.unique(test_labels))\n",
        "print(\"Validation Labels:\", np.unique(val_labels))"
      ],
      "metadata": {
        "colab": {
          "base_uri": "https://localhost:8080/"
        },
        "id": "K1Z81XSUn4NP",
        "outputId": "f589d5bf-b7f3-4f45-84de-472d97a1958e"
      },
      "execution_count": 59,
      "outputs": [
        {
          "output_type": "stream",
          "name": "stdout",
          "text": [
            "Label sebelum konversi ke bentuk numerik:\n",
            "Training Labels: [0 1 2 3 4]\n",
            "Testing Labels: [0 1 2 3 4]\n",
            "Validation Labels: [0 1 2 3 4]\n"
          ]
        }
      ]
    },
    {
      "cell_type": "code",
      "source": [
        "# Konversi label ke bentuk numerik\n",
        "label_encoder = LabelEncoder()\n",
        "train_labels = label_encoder.fit_transform(train_labels)\n",
        "test_labels = label_encoder.transform(test_labels)\n",
        "val_labels = label_encoder.transform(val_labels)"
      ],
      "metadata": {
        "id": "KMFpqggWi4hd"
      },
      "execution_count": 45,
      "outputs": []
    },
    {
      "cell_type": "code",
      "source": [
        "# Tampilkan label setelah konversi\n",
        "print(\"\\nLabel setelah konversi ke bentuk numerik:\")\n",
        "print(\"Training Labels:\", np.unique(train_labels))\n",
        "print(\"Testing Labels:\", np.unique(test_labels))\n",
        "print(\"Validation Labels:\", np.unique(val_labels))"
      ],
      "metadata": {
        "colab": {
          "base_uri": "https://localhost:8080/"
        },
        "id": "a1wnoAE3n0Tq",
        "outputId": "fa7bed5b-3c22-47c2-aa51-be542a2f8551"
      },
      "execution_count": 60,
      "outputs": [
        {
          "output_type": "stream",
          "name": "stdout",
          "text": [
            "\n",
            "Label setelah konversi ke bentuk numerik:\n",
            "Training Labels: [0 1 2 3 4]\n",
            "Testing Labels: [0 1 2 3 4]\n",
            "Validation Labels: [0 1 2 3 4]\n"
          ]
        }
      ]
    },
    {
      "cell_type": "code",
      "source": [
        "# Normalisasi data\n",
        "scaler = StandardScaler()\n",
        "train_images = scaler.fit_transform(train_images)\n",
        "test_images = scaler.transform(test_images)\n",
        "val_images = scaler.transform(val_images)"
      ],
      "metadata": {
        "id": "cQpkya2n-US7"
      },
      "execution_count": 46,
      "outputs": []
    },
    {
      "cell_type": "code",
      "source": [
        "# Penyetelan Hyperparameter dan Validasi Silang k-Fold\n",
        "param_grid = {\n",
        "    'n_neighbors': [3, 5, 7, 9, 11]\n",
        "}\n",
        "\n",
        "knn = KNeighborsClassifier()\n",
        "grid_search = GridSearchCV(knn, param_grid, cv=5)\n",
        "grid_search.fit(train_images, train_labels)\n",
        "best_knn = grid_search.best_estimator_"
      ],
      "metadata": {
        "id": "PZX_4Clb-Wn0"
      },
      "execution_count": 47,
      "outputs": []
    },
    {
      "cell_type": "code",
      "source": [
        "# Decision Trees\n",
        "dt = DecisionTreeClassifier(random_state=42)\n",
        "dt.fit(train_images, train_labels)"
      ],
      "metadata": {
        "colab": {
          "base_uri": "https://localhost:8080/",
          "height": 75
        },
        "id": "JSNDbo7p-Zpc",
        "outputId": "74dd76bc-2b71-4c6f-b926-8bb9fb199919"
      },
      "execution_count": 48,
      "outputs": [
        {
          "output_type": "execute_result",
          "data": {
            "text/plain": [
              "DecisionTreeClassifier(random_state=42)"
            ],
            "text/html": [
              "<style>#sk-container-id-3 {color: black;background-color: white;}#sk-container-id-3 pre{padding: 0;}#sk-container-id-3 div.sk-toggleable {background-color: white;}#sk-container-id-3 label.sk-toggleable__label {cursor: pointer;display: block;width: 100%;margin-bottom: 0;padding: 0.3em;box-sizing: border-box;text-align: center;}#sk-container-id-3 label.sk-toggleable__label-arrow:before {content: \"▸\";float: left;margin-right: 0.25em;color: #696969;}#sk-container-id-3 label.sk-toggleable__label-arrow:hover:before {color: black;}#sk-container-id-3 div.sk-estimator:hover label.sk-toggleable__label-arrow:before {color: black;}#sk-container-id-3 div.sk-toggleable__content {max-height: 0;max-width: 0;overflow: hidden;text-align: left;background-color: #f0f8ff;}#sk-container-id-3 div.sk-toggleable__content pre {margin: 0.2em;color: black;border-radius: 0.25em;background-color: #f0f8ff;}#sk-container-id-3 input.sk-toggleable__control:checked~div.sk-toggleable__content {max-height: 200px;max-width: 100%;overflow: auto;}#sk-container-id-3 input.sk-toggleable__control:checked~label.sk-toggleable__label-arrow:before {content: \"▾\";}#sk-container-id-3 div.sk-estimator input.sk-toggleable__control:checked~label.sk-toggleable__label {background-color: #d4ebff;}#sk-container-id-3 div.sk-label input.sk-toggleable__control:checked~label.sk-toggleable__label {background-color: #d4ebff;}#sk-container-id-3 input.sk-hidden--visually {border: 0;clip: rect(1px 1px 1px 1px);clip: rect(1px, 1px, 1px, 1px);height: 1px;margin: -1px;overflow: hidden;padding: 0;position: absolute;width: 1px;}#sk-container-id-3 div.sk-estimator {font-family: monospace;background-color: #f0f8ff;border: 1px dotted black;border-radius: 0.25em;box-sizing: border-box;margin-bottom: 0.5em;}#sk-container-id-3 div.sk-estimator:hover {background-color: #d4ebff;}#sk-container-id-3 div.sk-parallel-item::after {content: \"\";width: 100%;border-bottom: 1px solid gray;flex-grow: 1;}#sk-container-id-3 div.sk-label:hover label.sk-toggleable__label {background-color: #d4ebff;}#sk-container-id-3 div.sk-serial::before {content: \"\";position: absolute;border-left: 1px solid gray;box-sizing: border-box;top: 0;bottom: 0;left: 50%;z-index: 0;}#sk-container-id-3 div.sk-serial {display: flex;flex-direction: column;align-items: center;background-color: white;padding-right: 0.2em;padding-left: 0.2em;position: relative;}#sk-container-id-3 div.sk-item {position: relative;z-index: 1;}#sk-container-id-3 div.sk-parallel {display: flex;align-items: stretch;justify-content: center;background-color: white;position: relative;}#sk-container-id-3 div.sk-item::before, #sk-container-id-3 div.sk-parallel-item::before {content: \"\";position: absolute;border-left: 1px solid gray;box-sizing: border-box;top: 0;bottom: 0;left: 50%;z-index: -1;}#sk-container-id-3 div.sk-parallel-item {display: flex;flex-direction: column;z-index: 1;position: relative;background-color: white;}#sk-container-id-3 div.sk-parallel-item:first-child::after {align-self: flex-end;width: 50%;}#sk-container-id-3 div.sk-parallel-item:last-child::after {align-self: flex-start;width: 50%;}#sk-container-id-3 div.sk-parallel-item:only-child::after {width: 0;}#sk-container-id-3 div.sk-dashed-wrapped {border: 1px dashed gray;margin: 0 0.4em 0.5em 0.4em;box-sizing: border-box;padding-bottom: 0.4em;background-color: white;}#sk-container-id-3 div.sk-label label {font-family: monospace;font-weight: bold;display: inline-block;line-height: 1.2em;}#sk-container-id-3 div.sk-label-container {text-align: center;}#sk-container-id-3 div.sk-container {/* jupyter's `normalize.less` sets `[hidden] { display: none; }` but bootstrap.min.css set `[hidden] { display: none !important; }` so we also need the `!important` here to be able to override the default hidden behavior on the sphinx rendered scikit-learn.org. See: https://github.com/scikit-learn/scikit-learn/issues/21755 */display: inline-block !important;position: relative;}#sk-container-id-3 div.sk-text-repr-fallback {display: none;}</style><div id=\"sk-container-id-3\" class=\"sk-top-container\"><div class=\"sk-text-repr-fallback\"><pre>DecisionTreeClassifier(random_state=42)</pre><b>In a Jupyter environment, please rerun this cell to show the HTML representation or trust the notebook. <br />On GitHub, the HTML representation is unable to render, please try loading this page with nbviewer.org.</b></div><div class=\"sk-container\" hidden><div class=\"sk-item\"><div class=\"sk-estimator sk-toggleable\"><input class=\"sk-toggleable__control sk-hidden--visually\" id=\"sk-estimator-id-3\" type=\"checkbox\" checked><label for=\"sk-estimator-id-3\" class=\"sk-toggleable__label sk-toggleable__label-arrow\">DecisionTreeClassifier</label><div class=\"sk-toggleable__content\"><pre>DecisionTreeClassifier(random_state=42)</pre></div></div></div></div></div>"
            ]
          },
          "metadata": {},
          "execution_count": 48
        }
      ]
    },
    {
      "cell_type": "code",
      "source": [
        "# Penggabungan: K-NN dan Decision Trees\n",
        "class EnsembleModel:\n",
        "    def __init__(self, models):\n",
        "        self.models = models\n",
        "\n",
        "    def fit(self, X, y):\n",
        "        for model in self.models:\n",
        "            model.fit(X, y)\n",
        "\n",
        "    def predict(self, X):\n",
        "        predictions = np.array([model.predict(X) for model in self.models])\n",
        "        return np.apply_along_axis(lambda x: np.bincount(x).argmax(), axis=0, arr=predictions)\n",
        "\n",
        "    def score(self, X, y):\n",
        "        y_pred = self.predict(X)\n",
        "        return accuracy_score(y, y_pred)\n",
        "\n",
        "    def get_params(self, deep=True):\n",
        "        return {'models': self.models}\n",
        "\n",
        "ensemble_model = EnsembleModel([best_knn, dt])\n",
        "ensemble_model.fit(train_images, train_labels)"
      ],
      "metadata": {
        "id": "cYiPmFMh-cDE"
      },
      "execution_count": 49,
      "outputs": []
    },
    {
      "cell_type": "code",
      "source": [
        "# Evaluasi dengan validasi silang k-Fold\n",
        "kf = KFold(n_splits=5, shuffle=True, random_state=42)\n",
        "knn_scores = cross_val_score(best_knn, train_images, train_labels, cv=kf)\n",
        "dt_scores = cross_val_score(dt, train_images, train_labels, cv=kf)\n",
        "ensemble_scores = cross_val_score(ensemble_model, train_images, train_labels, cv=kf)"
      ],
      "metadata": {
        "id": "A0HBkir9-eWk"
      },
      "execution_count": 50,
      "outputs": []
    },
    {
      "cell_type": "code",
      "source": [
        "print(f\"K-NN Cross-Validation Scores: {knn_scores}\")\n",
        "print(f\"Decision Trees Cross-Validation Scores: {dt_scores}\")\n",
        "print(f\"Ensemble Model Cross-Validation Scores: {ensemble_scores}\")"
      ],
      "metadata": {
        "colab": {
          "base_uri": "https://localhost:8080/"
        },
        "id": "svaciE5igMmR",
        "outputId": "68266222-698c-4f0a-c768-0405ebe23b1f"
      },
      "execution_count": 51,
      "outputs": [
        {
          "output_type": "stream",
          "name": "stdout",
          "text": [
            "K-NN Cross-Validation Scores: [0.60294118 0.55172414 0.68472906 0.59605911 0.54679803]\n",
            "Decision Trees Cross-Validation Scores: [0.98039216 0.99014778 0.98522167 0.98522167 0.97536946]\n",
            "Ensemble Model Cross-Validation Scores: [0.75490196 0.74384236 0.79802956 0.74876847 0.73891626]\n"
          ]
        }
      ]
    },
    {
      "cell_type": "code",
      "source": [
        "# Evaluasi model\n",
        "train_predictions = ensemble_model.predict(train_images)\n",
        "test_predictions = ensemble_model.predict(test_images)\n",
        "val_predictions = ensemble_model.predict(val_images)\n",
        "\n",
        "train_accuracy = accuracy_score(train_labels, train_predictions)\n",
        "test_accuracy = accuracy_score(test_labels, test_predictions)\n",
        "val_accuracy = accuracy_score(val_labels, val_predictions)\n",
        "\n",
        "print(f\"Akurasi Pelatihan: {train_accuracy:.4f}\")\n",
        "print(f\"Akurasi Testing: {test_accuracy:.4f}\")\n",
        "print(f\"Akurasi Validasi: {val_accuracy:.4f}\")"
      ],
      "metadata": {
        "colab": {
          "base_uri": "https://localhost:8080/"
        },
        "id": "L2pEdMK2-hzE",
        "outputId": "ceb3fca7-1903-4839-b1bb-8c4332cc63e9"
      },
      "execution_count": 52,
      "outputs": [
        {
          "output_type": "stream",
          "name": "stdout",
          "text": [
            "Akurasi Pelatihan: 0.8701\n",
            "Akurasi Testing: 0.3333\n",
            "Akurasi Validasi: 0.6458\n"
          ]
        }
      ]
    },
    {
      "cell_type": "code",
      "source": [
        "# Analisis Kesalahan\n",
        "val_class_report = classification_report(val_labels, val_predictions)\n",
        "val_conf_matrix = confusion_matrix(val_labels, val_predictions)"
      ],
      "metadata": {
        "id": "mO71rAAC-juM"
      },
      "execution_count": 53,
      "outputs": []
    },
    {
      "cell_type": "code",
      "source": [
        "print(\"Classification Report untuk Validasi:\")\n",
        "print(val_class_report)"
      ],
      "metadata": {
        "colab": {
          "base_uri": "https://localhost:8080/"
        },
        "id": "6FwFNAQBb_XN",
        "outputId": "d95771d2-325d-4aec-b0b6-3002ce8b3241"
      },
      "execution_count": 54,
      "outputs": [
        {
          "output_type": "stream",
          "name": "stdout",
          "text": [
            "Classification Report untuk Validasi:\n",
            "              precision    recall  f1-score   support\n",
            "\n",
            "           0       0.58      0.97      0.73        29\n",
            "           1       0.61      0.69      0.65        29\n",
            "           2       0.72      0.82      0.77        28\n",
            "           3       0.60      0.31      0.41        29\n",
            "           4       0.81      0.45      0.58        29\n",
            "\n",
            "    accuracy                           0.65       144\n",
            "   macro avg       0.66      0.65      0.63       144\n",
            "weighted avg       0.66      0.65      0.62       144\n",
            "\n"
          ]
        }
      ]
    },
    {
      "cell_type": "code",
      "source": [
        "print(\"Confusion Matrix untuk Validasi:\")\n",
        "print(val_conf_matrix)"
      ],
      "metadata": {
        "colab": {
          "base_uri": "https://localhost:8080/"
        },
        "id": "eVEslyKAcB5f",
        "outputId": "4bb16c18-1a59-4a7e-a2f2-13bfb6890bfb"
      },
      "execution_count": 55,
      "outputs": [
        {
          "output_type": "stream",
          "name": "stdout",
          "text": [
            "Confusion Matrix untuk Validasi:\n",
            "[[28  1  0  0  0]\n",
            " [ 3 20  0  3  3]\n",
            " [ 5  0 23  0  0]\n",
            " [ 5  7  8  9  0]\n",
            " [ 7  5  1  3 13]]\n"
          ]
        }
      ]
    },
    {
      "cell_type": "code",
      "source": [
        "# Plot Confusion Matrix\n",
        "plt.figure(figsize=(8, 6))\n",
        "plt.imshow(val_conf_matrix, interpolation='nearest', cmap=plt.cm.Blues)\n",
        "plt.title('Confusion Matrix')\n",
        "plt.colorbar()\n",
        "tick_marks = np.arange(len(np.unique(train_labels)))\n",
        "plt.xticks(tick_marks, np.unique(train_labels), rotation=45)\n",
        "plt.yticks(tick_marks, np.unique(train_labels))\n",
        "plt.ylabel('True label')\n",
        "plt.xlabel('Predicted label')\n",
        "plt.show()"
      ],
      "metadata": {
        "id": "o3J5tO8U-lDV",
        "colab": {
          "base_uri": "https://localhost:8080/",
          "height": 566
        },
        "outputId": "e41fc688-d417-4cfc-ce43-415885f9b6b1"
      },
      "execution_count": 56,
      "outputs": [
        {
          "output_type": "display_data",
          "data": {
            "text/plain": [
              "<Figure size 800x600 with 2 Axes>"
            ],
            "image/png": "[encoded data removed]"
          },
          "metadata": {}
        }
      ]
    },
    {
      "cell_type": "code",
      "source": [
        "# Simpan model penggabungan\n",
        "joblib.dump(ensemble_model, 'ensemble_model.pkl')"
      ],
      "metadata": {
        "id": "sfbjalUc-m5F",
        "colab": {
          "base_uri": "https://localhost:8080/"
        },
        "outputId": "73c8907b-1c45-4224-b556-1b6e7541a931"
      },
      "execution_count": 57,
      "outputs": [
        {
          "output_type": "execute_result",
          "data": {
            "text/plain": [
              "['ensemble_model.pkl']"
            ]
          },
          "metadata": {},
          "execution_count": 57
        }
      ]
    },
    {
      "cell_type": "code",
      "source": [
        "# Pentingnya Fitur pada Decision Trees\n",
        "importances = dt.feature_importances_\n",
        "indices = np.argsort(importances)[::-1]\n",
        "plt.figure(figsize=(10, 6))\n",
        "plt.title(\"Feature Importances\")\n",
        "plt.bar(range(train_images.shape[1]), importances[indices], align=\"center\")\n",
        "plt.xticks(range(train_images.shape[1]), indices)\n",
        "plt.xlim([-1, train_images.shape[1]])\n",
        "plt.show()"
      ],
      "metadata": {
        "id": "fyTbD1Xj-oX9",
        "colab": {
          "base_uri": "https://localhost:8080/",
          "height": 403
        },
        "outputId": "39ff7ed1-6022-4d1c-d663-74c84ad4ceaa"
      },
      "execution_count": 58,
      "outputs": [
        {
          "output_type": "display_data",
          "data": {
            "text/plain": [
              "<Figure size 1000x600 with 1 Axes>"
            ],
            "image/png": "[encoded data removed]"
          },
          "metadata": {}
        }
      ]
    }
  ]
}
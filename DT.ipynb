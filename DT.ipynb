{
  "nbformat": 4,
  "nbformat_minor": 0,
  "metadata": {
    "colab": {
      "provenance": [],
      "authorship_tag": "ABX9TyMQhu7ScDhfzvWPFIMSEW0t",
      "include_colab_link": true
    },
    "kernelspec": {
      "name": "python3",
      "display_name": "Python 3"
    },
    "language_info": {
      "name": "python"
    }
  },
  "cells": [
    {
      "cell_type": "markdown",
      "metadata": {
        "id": "view-in-github",
        "colab_type": "text"
      },
      "source": [
        "<a href=\"https://colab.research.google.com/github/mprksa/kubus5/blob/main/DT.ipynb\" target=\"_parent\"><img src=\"https://colab.research.google.com/assets/colab-badge.svg\" alt=\"Open In Colab\"/></a>"
      ]
    },
    {
      "cell_type": "code",
      "execution_count": 1,
      "metadata": {
        "id": "1p4YPX5RwLsF"
      },
      "outputs": [],
      "source": [
        "import os\n",
        "import cv2\n",
        "import json\n",
        "import numpy as np\n",
        "import pandas as pd\n",
        "import matplotlib.pyplot as plt\n",
        "from sklearn.tree import DecisionTreeClassifier\n",
        "from sklearn.metrics import accuracy_score, classification_report, confusion_matrix, precision_score, recall_score, f1_score\n",
        "from sklearn.model_selection import GridSearchCV, train_test_split, cross_val_score, KFold\n",
        "from sklearn.preprocessing import StandardScaler, LabelEncoder\n",
        "import imgaug.augmenters as iaa"
      ]
    },
    {
      "cell_type": "code",
      "source": [
        "# Clone the repository\n",
        "!git clone https://github.com/mprksa/Blocks2.git"
      ],
      "metadata": {
        "colab": {
          "base_uri": "https://localhost:8080/"
        },
        "id": "FCB6G9R4wQqa",
        "outputId": "86ef9314-4cee-40f9-ac0b-8aa1479dc3d3"
      },
      "execution_count": 2,
      "outputs": [
        {
          "output_type": "stream",
          "name": "stdout",
          "text": [
            "Cloning into 'Blocks2'...\n",
            "remote: Enumerating objects: 887, done.\u001b[K\n",
            "remote: Counting objects: 100% (887/887), done.\u001b[K\n",
            "remote: Compressing objects: 100% (873/873), done.\u001b[K\n",
            "remote: Total 887 (delta 36), reused 0 (delta 0), pack-reused 0\u001b[K\n",
            "Receiving objects: 100% (887/887), 1.82 GiB | 23.66 MiB/s, done.\n",
            "Resolving deltas: 100% (36/36), done.\n",
            "Updating files: 100% (729/729), done.\n"
          ]
        }
      ]
    },
    {
      "cell_type": "code",
      "source": [
        "# Fungsi untuk memuat data\n",
        "def load_data(image_folder, label_file, image_size=(256, 256), augment=False):\n",
        "    images = []\n",
        "    labels = []\n",
        "    hsv_values = []\n",
        "\n",
        "    with open(label_file, 'r') as f:\n",
        "        data = json.load(f)\n",
        "\n",
        "    image_id_to_filename = {image['id']: image['file_name'] for image in data['images']}\n",
        "    category_id_to_name = {category['id']: category['name'] for category in data['categories']}\n",
        "\n",
        "    for annotation in data['annotations']:\n",
        "        image_id = annotation['image_id']\n",
        "        category_id = annotation['category_id']\n",
        "\n",
        "        img_path = os.path.join(image_folder, image_id_to_filename[image_id])\n",
        "        if os.path.exists(img_path):\n",
        "            img = cv2.imread(img_path)\n",
        "            if img is not None:\n",
        "                img = cv2.resize(img, image_size)\n",
        "                img_hsv = cv2.cvtColor(img, cv2.COLOR_BGR2HSV)\n",
        "                hsv_values.append((category_id_to_name[category_id], img_hsv))\n",
        "                images.append(img_hsv.flatten())\n",
        "                labels.append(category_id_to_name[category_id])\n",
        "\n",
        "                if augment:\n",
        "                    img_flip = cv2.flip(img, 1)  # horizontal flip\n",
        "                    img_flip_hsv = cv2.cvtColor(img_flip, cv2.COLOR_BGR2HSV)\n",
        "                    hsv_values.append((category_id_to_name[category_id], img_flip_hsv))\n",
        "                    images.append(img_flip_hsv.flatten())\n",
        "                    labels.append(category_id_to_name[category_id])\n",
        "\n",
        "    return np.array(images), np.array(labels), hsv_values"
      ],
      "metadata": {
        "id": "R5iBByZIwT4d"
      },
      "execution_count": 3,
      "outputs": []
    },
    {
      "cell_type": "code",
      "source": [
        "# Muat data dengan augmentasi\n",
        "train_images, train_labels, train_hsv = load_data('Blocks2/train/images', 'Blocks2/train/labels.json', augment=True)\n",
        "test_images, test_labels, test_hsv = load_data('Blocks2/test/images', 'Blocks2/test/labels.json')\n",
        "val_images, val_labels, val_hsv = load_data('Blocks2/validation/images', 'Blocks2/validation/labels.json')"
      ],
      "metadata": {
        "id": "xqzTcELTwaak"
      },
      "execution_count": 4,
      "outputs": []
    },
    {
      "cell_type": "code",
      "source": [
        "# Tampilkan label sebelum konversi\n",
        "print(\"Label sebelum konversi ke bentuk numerik:\")\n",
        "print(\"Training Labels:\", np.unique(train_labels))\n",
        "print(\"Testing Labels:\", np.unique(test_labels))\n",
        "print(\"Validation Labels:\", np.unique(val_labels))"
      ],
      "metadata": {
        "colab": {
          "base_uri": "https://localhost:8080/"
        },
        "id": "bOczwJs7wcuz",
        "outputId": "70c5a655-6939-44f0-b4f4-eb75ff0a5f86"
      },
      "execution_count": 5,
      "outputs": [
        {
          "output_type": "stream",
          "name": "stdout",
          "text": [
            "Label sebelum konversi ke bentuk numerik:\n",
            "Training Labels: ['biru' 'hitam' 'kuning' 'merah' 'putih']\n",
            "Testing Labels: ['biru' 'hitam' 'kuning' 'merah' 'putih']\n",
            "Validation Labels: ['biru' 'hitam' 'kuning' 'merah' 'putih']\n"
          ]
        }
      ]
    },
    {
      "cell_type": "code",
      "source": [
        "# Konversi label ke bentuk numerik\n",
        "label_encoder = LabelEncoder()\n",
        "train_labels = label_encoder.fit_transform(train_labels)\n",
        "test_labels = label_encoder.transform(test_labels)\n",
        "val_labels = label_encoder.transform(val_labels)"
      ],
      "metadata": {
        "id": "GTBiJbaowf6Q"
      },
      "execution_count": 6,
      "outputs": []
    },
    {
      "cell_type": "code",
      "source": [
        "# Tampilkan label setelah konversi\n",
        "print(\"\\nLabel setelah konversi ke bentuk numerik:\")\n",
        "print(\"Training Labels:\", np.unique(train_labels))\n",
        "print(\"Testing Labels:\", np.unique(test_labels))\n",
        "print(\"Validation Labels:\", np.unique(val_labels))"
      ],
      "metadata": {
        "colab": {
          "base_uri": "https://localhost:8080/"
        },
        "id": "uHebvmuSwht6",
        "outputId": "49b92026-4f45-44c4-b37f-895b0a6b8356"
      },
      "execution_count": 7,
      "outputs": [
        {
          "output_type": "stream",
          "name": "stdout",
          "text": [
            "\n",
            "Label setelah konversi ke bentuk numerik:\n",
            "Training Labels: [0 1 2 3 4]\n",
            "Testing Labels: [0 1 2 3 4]\n",
            "Validation Labels: [0 1 2 3 4]\n"
          ]
        }
      ]
    },
    {
      "cell_type": "code",
      "source": [
        "# Normalisasi data\n",
        "scaler = StandardScaler()\n",
        "train_images = scaler.fit_transform(train_images)\n",
        "test_images = scaler.transform(test_images)\n",
        "val_images = scaler.transform(val_images)"
      ],
      "metadata": {
        "id": "8sHUuIgLwj1Y"
      },
      "execution_count": 8,
      "outputs": []
    },
    {
      "cell_type": "code",
      "source": [
        "# Decision Trees\n",
        "dt = DecisionTreeClassifier(random_state=42)\n",
        "dt.fit(train_images, train_labels)"
      ],
      "metadata": {
        "colab": {
          "base_uri": "https://localhost:8080/",
          "height": 75
        },
        "id": "RlxZdBaMwmCl",
        "outputId": "c835ea4a-b974-453f-9dc5-b0fc8bac4a65"
      },
      "execution_count": 9,
      "outputs": [
        {
          "output_type": "execute_result",
          "data": {
            "text/plain": [
              "DecisionTreeClassifier(random_state=42)"
            ],
            "text/html": [
              "<style>#sk-container-id-1 {color: black;background-color: white;}#sk-container-id-1 pre{padding: 0;}#sk-container-id-1 div.sk-toggleable {background-color: white;}#sk-container-id-1 label.sk-toggleable__label {cursor: pointer;display: block;width: 100%;margin-bottom: 0;padding: 0.3em;box-sizing: border-box;text-align: center;}#sk-container-id-1 label.sk-toggleable__label-arrow:before {content: \"▸\";float: left;margin-right: 0.25em;color: #696969;}#sk-container-id-1 label.sk-toggleable__label-arrow:hover:before {color: black;}#sk-container-id-1 div.sk-estimator:hover label.sk-toggleable__label-arrow:before {color: black;}#sk-container-id-1 div.sk-toggleable__content {max-height: 0;max-width: 0;overflow: hidden;text-align: left;background-color: #f0f8ff;}#sk-container-id-1 div.sk-toggleable__content pre {margin: 0.2em;color: black;border-radius: 0.25em;background-color: #f0f8ff;}#sk-container-id-1 input.sk-toggleable__control:checked~div.sk-toggleable__content {max-height: 200px;max-width: 100%;overflow: auto;}#sk-container-id-1 input.sk-toggleable__control:checked~label.sk-toggleable__label-arrow:before {content: \"▾\";}#sk-container-id-1 div.sk-estimator input.sk-toggleable__control:checked~label.sk-toggleable__label {background-color: #d4ebff;}#sk-container-id-1 div.sk-label input.sk-toggleable__control:checked~label.sk-toggleable__label {background-color: #d4ebff;}#sk-container-id-1 input.sk-hidden--visually {border: 0;clip: rect(1px 1px 1px 1px);clip: rect(1px, 1px, 1px, 1px);height: 1px;margin: -1px;overflow: hidden;padding: 0;position: absolute;width: 1px;}#sk-container-id-1 div.sk-estimator {font-family: monospace;background-color: #f0f8ff;border: 1px dotted black;border-radius: 0.25em;box-sizing: border-box;margin-bottom: 0.5em;}#sk-container-id-1 div.sk-estimator:hover {background-color: #d4ebff;}#sk-container-id-1 div.sk-parallel-item::after {content: \"\";width: 100%;border-bottom: 1px solid gray;flex-grow: 1;}#sk-container-id-1 div.sk-label:hover label.sk-toggleable__label {background-color: #d4ebff;}#sk-container-id-1 div.sk-serial::before {content: \"\";position: absolute;border-left: 1px solid gray;box-sizing: border-box;top: 0;bottom: 0;left: 50%;z-index: 0;}#sk-container-id-1 div.sk-serial {display: flex;flex-direction: column;align-items: center;background-color: white;padding-right: 0.2em;padding-left: 0.2em;position: relative;}#sk-container-id-1 div.sk-item {position: relative;z-index: 1;}#sk-container-id-1 div.sk-parallel {display: flex;align-items: stretch;justify-content: center;background-color: white;position: relative;}#sk-container-id-1 div.sk-item::before, #sk-container-id-1 div.sk-parallel-item::before {content: \"\";position: absolute;border-left: 1px solid gray;box-sizing: border-box;top: 0;bottom: 0;left: 50%;z-index: -1;}#sk-container-id-1 div.sk-parallel-item {display: flex;flex-direction: column;z-index: 1;position: relative;background-color: white;}#sk-container-id-1 div.sk-parallel-item:first-child::after {align-self: flex-end;width: 50%;}#sk-container-id-1 div.sk-parallel-item:last-child::after {align-self: flex-start;width: 50%;}#sk-container-id-1 div.sk-parallel-item:only-child::after {width: 0;}#sk-container-id-1 div.sk-dashed-wrapped {border: 1px dashed gray;margin: 0 0.4em 0.5em 0.4em;box-sizing: border-box;padding-bottom: 0.4em;background-color: white;}#sk-container-id-1 div.sk-label label {font-family: monospace;font-weight: bold;display: inline-block;line-height: 1.2em;}#sk-container-id-1 div.sk-label-container {text-align: center;}#sk-container-id-1 div.sk-container {/* jupyter's `normalize.less` sets `[hidden] { display: none; }` but bootstrap.min.css set `[hidden] { display: none !important; }` so we also need the `!important` here to be able to override the default hidden behavior on the sphinx rendered scikit-learn.org. See: https://github.com/scikit-learn/scikit-learn/issues/21755 */display: inline-block !important;position: relative;}#sk-container-id-1 div.sk-text-repr-fallback {display: none;}</style><div id=\"sk-container-id-1\" class=\"sk-top-container\"><div class=\"sk-text-repr-fallback\"><pre>DecisionTreeClassifier(random_state=42)</pre><b>In a Jupyter environment, please rerun this cell to show the HTML representation or trust the notebook. <br />On GitHub, the HTML representation is unable to render, please try loading this page with nbviewer.org.</b></div><div class=\"sk-container\" hidden><div class=\"sk-item\"><div class=\"sk-estimator sk-toggleable\"><input class=\"sk-toggleable__control sk-hidden--visually\" id=\"sk-estimator-id-1\" type=\"checkbox\" checked><label for=\"sk-estimator-id-1\" class=\"sk-toggleable__label sk-toggleable__label-arrow\">DecisionTreeClassifier</label><div class=\"sk-toggleable__content\"><pre>DecisionTreeClassifier(random_state=42)</pre></div></div></div></div></div>"
            ]
          },
          "metadata": {},
          "execution_count": 9
        }
      ]
    },
    {
      "cell_type": "code",
      "source": [
        "# Evaluasi dengan validasi silang k-Fold\n",
        "kf = KFold(n_splits=5, shuffle=True, random_state=42)\n",
        "dt_scores = cross_val_score(dt, train_images, train_labels, cv=kf)\n",
        "\n",
        "print(f\"Decision Trees Cross-Validation Scores: {dt_scores}\")"
      ],
      "metadata": {
        "colab": {
          "base_uri": "https://localhost:8080/"
        },
        "id": "Tad1sapAwodE",
        "outputId": "3a6a864d-2f26-4e1a-8e1d-5daa91ead4f6"
      },
      "execution_count": 10,
      "outputs": [
        {
          "output_type": "stream",
          "name": "stdout",
          "text": [
            "Decision Trees Cross-Validation Scores: [0.99019608 0.99507389 0.99507389 0.99507389 0.99507389]\n"
          ]
        }
      ]
    },
    {
      "cell_type": "code",
      "source": [
        "# Evaluasi model\n",
        "test_predictions = dt.predict(test_images)\n",
        "val_predictions = dt.predict(val_images)\n",
        "\n",
        "test_accuracy = accuracy_score(test_labels, test_predictions)\n",
        "val_accuracy = accuracy_score(val_labels, val_predictions)\n",
        "\n",
        "print(f\"Akurasi Testing: {test_accuracy:.4f}\")\n",
        "print(f\"Akurasi Validasi: {val_accuracy:.4f}\")"
      ],
      "metadata": {
        "colab": {
          "base_uri": "https://localhost:8080/"
        },
        "id": "e_F4ERGTwrTa",
        "outputId": "6ca8e365-e6a6-463f-a833-80eccd455c7e"
      },
      "execution_count": 11,
      "outputs": [
        {
          "output_type": "stream",
          "name": "stdout",
          "text": [
            "Akurasi Testing: 0.9028\n",
            "Akurasi Validasi: 0.9028\n"
          ]
        }
      ]
    },
    {
      "cell_type": "code",
      "source": [
        "# Analisis Kesalahan\n",
        "val_class_report = classification_report(val_labels, val_predictions)\n",
        "val_conf_matrix = confusion_matrix(val_labels, val_predictions)"
      ],
      "metadata": {
        "id": "VI4pwc9Mwtv-"
      },
      "execution_count": 12,
      "outputs": []
    },
    {
      "cell_type": "code",
      "source": [
        "print(\"Classification Report untuk Validasi:\")\n",
        "print(val_class_report)"
      ],
      "metadata": {
        "colab": {
          "base_uri": "https://localhost:8080/"
        },
        "id": "e8BvNXxRwvW3",
        "outputId": "a53d4141-c1a0-438a-d5fa-67d81d806cd0"
      },
      "execution_count": 13,
      "outputs": [
        {
          "output_type": "stream",
          "name": "stdout",
          "text": [
            "Classification Report untuk Validasi:\n",
            "              precision    recall  f1-score   support\n",
            "\n",
            "           0       0.85      0.97      0.90        29\n",
            "           1       0.94      0.59      0.72        29\n",
            "           2       1.00      1.00      1.00        28\n",
            "           3       1.00      0.97      0.98        29\n",
            "           4       0.78      1.00      0.88        29\n",
            "\n",
            "    accuracy                           0.90       144\n",
            "   macro avg       0.92      0.90      0.90       144\n",
            "weighted avg       0.91      0.90      0.90       144\n",
            "\n"
          ]
        }
      ]
    },
    {
      "cell_type": "code",
      "source": [
        "print(\"Confusion Matrix untuk Validasi:\")\n",
        "print(val_conf_matrix)"
      ],
      "metadata": {
        "colab": {
          "base_uri": "https://localhost:8080/"
        },
        "id": "1dPZzf26wxdC",
        "outputId": "b64e42b5-738f-45f5-b0c4-b24070aab3d6"
      },
      "execution_count": 14,
      "outputs": [
        {
          "output_type": "stream",
          "name": "stdout",
          "text": [
            "Confusion Matrix untuk Validasi:\n",
            "[[28  1  0  0  0]\n",
            " [ 5 17  0  0  7]\n",
            " [ 0  0 28  0  0]\n",
            " [ 0  0  0 28  1]\n",
            " [ 0  0  0  0 29]]\n"
          ]
        }
      ]
    },
    {
      "cell_type": "code",
      "source": [
        "# Plot Confusion Matrix\n",
        "plt.figure(figsize=(8, 6))\n",
        "plt.imshow(val_conf_matrix, interpolation='nearest', cmap=plt.cm.Blues)\n",
        "plt.title('Confusion Matrix')\n",
        "plt.colorbar()\n",
        "tick_marks = np.arange(len(np.unique(train_labels)))\n",
        "plt.xticks(tick_marks, np.unique(train_labels), rotation=45)\n",
        "plt.yticks(tick_marks, np.unique(train_labels))\n",
        "plt.ylabel('True label')\n",
        "plt.xlabel('Predicted label')\n",
        "plt.show()"
      ],
      "metadata": {
        "colab": {
          "base_uri": "https://localhost:8080/",
          "height": 566
        },
        "id": "IgyWz6T3wzoZ",
        "outputId": "197ee394-4081-45fa-c47e-6eb36374d432"
      },
      "execution_count": 15,
      "outputs": [
        {
          "output_type": "display_data",
          "data": {
            "text/plain": [
              "<Figure size 800x600 with 2 Axes>"
            ],
            "image/png": "[encoded data removed]"
          },
          "metadata": {}
        }
      ]
    },
    {
      "cell_type": "code",
      "source": [
        "import numpy as np\n",
        "\n",
        "# Definisi ulang train_hsv dari data latihan\n",
        "train_hsv = load_data('Blocks2/train/images', 'Blocks2/train/labels.json')[2]\n",
        "\n",
        "label_encoder = LabelEncoder()\n",
        "train_labels = label_encoder.fit_transform(train_labels)\n",
        "\n",
        "unique_labels = np.unique(train_labels)\n",
        "\n",
        "for label in unique_labels:\n",
        "    h_values = []\n",
        "    s_values = []\n",
        "    v_values = []\n",
        "    count = 0\n",
        "\n",
        "    # Iterate over the range of the shorter list\n",
        "    for i in range(min(len(train_labels), len(train_hsv))):\n",
        "        if train_labels[i] == label:\n",
        "            img_hsv = train_hsv[i]\n",
        "            # Check the length of img_hsv before accessing elements\n",
        "            if len(img_hsv) > 1:\n",
        "                # Access the NumPy array within the tuple\n",
        "                img_array = img_hsv[1]\n",
        "                h_values.extend(img_array[:, :, 0].flatten())\n",
        "                s_values.extend(img_array[:, :, 1].flatten())\n",
        "                v_values.extend(img_array[:, :, 2].flatten())\n",
        "                count += 1\n",
        "            else:\n",
        "                print(f\"Warning: Invalid data format for sample at index {i}. Skipping.\")\n",
        "\n",
        "    if count > 0:\n",
        "        h_values = np.array(h_values)\n",
        "        s_values = np.array(s_values)\n",
        "        v_values = np.array(v_values)\n",
        "\n",
        "        print(f'Kelas: {label}')\n",
        "        print(f'Nilai H - Min: {h_values.min()}, Max: {h_values.max()}, Mean: {h_values.mean()}')\n",
        "        print(f'Nilai S - Min: {s_values.min()}, Max: {s_values.max()}, Mean: {s_values.mean()}')\n",
        "        print(f'Nilai V - Min: {v_values.min()}, Max: {v_values.max()}, Mean: {v_values.mean()}')\n",
        "        print(f'Jumlah Sampel: {count}')\n",
        "        print('-' * 50)\n",
        "    else:\n",
        "        print(f'No matching items found for label: {label}')\n",
        "        print('-' * 50)"
      ],
      "metadata": {
        "colab": {
          "base_uri": "https://localhost:8080/"
        },
        "id": "aEqBFykMyugA",
        "outputId": "fece0e7d-3029-4f9c-cf4e-e9d314aec288"
      },
      "execution_count": 22,
      "outputs": [
        {
          "output_type": "stream",
          "name": "stdout",
          "text": [
            "Kelas: 0\n",
            "Nilai H - Min: 0, Max: 179, Mean: 26.23976813422309\n",
            "Nilai S - Min: 0, Max: 255, Mean: 48.26729956732856\n",
            "Nilai V - Min: 0, Max: 255, Mean: 147.10238901774088\n",
            "Jumlah Sampel: 90\n",
            "--------------------------------------------------\n",
            "Kelas: 1\n",
            "Nilai H - Min: 0, Max: 179, Mean: 39.65679466433642\n",
            "Nilai S - Min: 0, Max: 255, Mean: 43.57298036900962\n",
            "Nilai V - Min: 0, Max: 255, Mean: 101.07182125928925\n",
            "Jumlah Sampel: 82\n",
            "--------------------------------------------------\n",
            "Kelas: 2\n",
            "Nilai H - Min: 0, Max: 179, Mean: 31.875971309474256\n",
            "Nilai S - Min: 0, Max: 255, Mean: 55.65528682020844\n",
            "Nilai V - Min: 0, Max: 255, Mean: 128.12878593069607\n",
            "Jumlah Sampel: 122\n",
            "--------------------------------------------------\n",
            "Kelas: 3\n",
            "Nilai H - Min: 0, Max: 179, Mean: 30.263417307535807\n",
            "Nilai S - Min: 0, Max: 255, Mean: 61.97629712422689\n",
            "Nilai V - Min: 0, Max: 255, Mean: 148.50102450052898\n",
            "Jumlah Sampel: 120\n",
            "--------------------------------------------------\n",
            "Kelas: 4\n",
            "Nilai H - Min: 0, Max: 179, Mean: 36.282324283681014\n",
            "Nilai S - Min: 0, Max: 255, Mean: 38.311375232453045\n",
            "Nilai V - Min: 0, Max: 255, Mean: 107.19148725144406\n",
            "Jumlah Sampel: 94\n",
            "--------------------------------------------------\n"
          ]
        }
      ]
    },
    {
      "cell_type": "code",
      "source": [
        "# Evaluasi setiap gambar di set pengujian\n",
        "image_evaluations = []\n",
        "\n",
        "# Evaluasi setiap gambar di set pengujian\n",
        "for idx, (image, true_label) in enumerate(zip(test_images, test_labels)):\n",
        "    # Prediksi label menggunakan model Decision Tree\n",
        "    pred_label = dt.predict([image])[0]\n",
        "\n",
        "    # Hitung akurasi\n",
        "    accuracy = 1 if pred_label == true_label else 0\n",
        "\n",
        "    # Hitung precision, recall, dan f1-score\n",
        "    precision = precision_score([true_label], [pred_label], average='macro', zero_division=0)\n",
        "    recall = recall_score([true_label], [pred_label], average='macro', zero_division=0)\n",
        "    f1 = f1_score([true_label], [pred_label], average='macro', zero_division=0)\n",
        "\n",
        "    # Simpan hasil evaluasi dalam bentuk dictionary\n",
        "    image_evaluations.append({\n",
        "        'Image Index': idx,\n",
        "        'True Label': true_label,\n",
        "        'Predicted Label': pred_label,\n",
        "        'Accuracy': accuracy,\n",
        "        'Precision': precision,\n",
        "        'Recall': recall,\n",
        "        'F1-Score': f1\n",
        "    })\n",
        "\n",
        "# Buat DataFrame dari hasil evaluasi\n",
        "df_image_evaluations = pd.DataFrame(image_evaluations)"
      ],
      "metadata": {
        "id": "9BEy-4__yzNH"
      },
      "execution_count": 25,
      "outputs": []
    },
    {
      "cell_type": "code",
      "source": [
        "# Tampilkan hasil evaluasi setiap gambar di set pengujian\n",
        "print(\"Evaluasi Setiap Gambar di Set Pengujian:\")\n",
        "print(df_image_evaluations)"
      ],
      "metadata": {
        "colab": {
          "base_uri": "https://localhost:8080/"
        },
        "id": "jTAmJaLvy1az",
        "outputId": "3ed3b666-6df1-4c99-a915-7e22ff47e33a"
      },
      "execution_count": 26,
      "outputs": [
        {
          "output_type": "stream",
          "name": "stdout",
          "text": [
            "Evaluasi Setiap Gambar di Set Pengujian:\n",
            "    Image Index  True Label  Predicted Label  Accuracy  Precision  Recall  \\\n",
            "0             0           0                0         1        1.0     1.0   \n",
            "1             1           0                0         1        1.0     1.0   \n",
            "2             2           0                0         1        1.0     1.0   \n",
            "3             3           0                0         1        1.0     1.0   \n",
            "4             4           0                0         1        1.0     1.0   \n",
            "..          ...         ...              ...       ...        ...     ...   \n",
            "67           67           0                0         1        1.0     1.0   \n",
            "68           68           0                0         1        1.0     1.0   \n",
            "69           69           0                0         1        1.0     1.0   \n",
            "70           70           0                0         1        1.0     1.0   \n",
            "71           71           0                0         1        1.0     1.0   \n",
            "\n",
            "    F1-Score  \n",
            "0        1.0  \n",
            "1        1.0  \n",
            "2        1.0  \n",
            "3        1.0  \n",
            "4        1.0  \n",
            "..       ...  \n",
            "67       1.0  \n",
            "68       1.0  \n",
            "69       1.0  \n",
            "70       1.0  \n",
            "71       1.0  \n",
            "\n",
            "[72 rows x 7 columns]\n"
          ]
        }
      ]
    },
    {
      "cell_type": "markdown",
      "source": [
        "Image Index: Indeks gambar dalam set pengujian.\n",
        "\n",
        "True Label: Label sebenarnya dari gambar.\n",
        "\n",
        "Predicted Label: Label yang diprediksi oleh model untuk gambar tersebut.\n",
        "\n",
        "Accuracy: Akurasi prediksi untuk gambar tertentu. Nilai 1 menunjukkan prediksi yang benar, sedangkan nilai 0 menunjukkan prediksi yang salah.\n",
        "\n",
        "Precision: Presisi dari prediksi untuk kelas tertentu. Presisi adalah rasio true positive dibagi dengan total prediksi positif yang dilakukan oleh model.\n",
        "\n",
        "Recall: Recall atau ketepatan dari prediksi untuk kelas tertentu. Recall adalah rasio true positive dibagi dengan total data sebenarnya yang termasuk dalam kelas tersebut.\n",
        "\n",
        "F1-Score: Skor F1 atau harmonic mean dari presisi dan recall. Skor F1 memberikan ukuran dari keseimbangan antara presisi dan recall."
      ],
      "metadata": {
        "id": "N8hQnntyFS6c"
      }
    },
    {
      "cell_type": "code",
      "source": [
        "import joblib\n",
        "\n",
        "# Simpan model ke file\n",
        "model_filename = 'decision_tree_model.pkl'\n",
        "with open(model_filename, 'wb') as model_file:\n",
        "    joblib.dump((dt, scaler, label_encoder), model_file)  # Now joblib is defined\n",
        "\n",
        "print(f\"Model disimpan sebagai {model_filename}\")"
      ],
      "metadata": {
        "colab": {
          "base_uri": "https://localhost:8080/"
        },
        "id": "StxJPM8WzaAQ",
        "outputId": "43a3ac59-f4d2-4d60-8ee4-fea942389988"
      },
      "execution_count": 28,
      "outputs": [
        {
          "output_type": "stream",
          "name": "stdout",
          "text": [
            "Model disimpan sebagai decision_tree_model.pkl\n"
          ]
        }
      ]
    }
  ]
}